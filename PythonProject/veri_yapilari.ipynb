{
 "cells": [
  {
   "cell_type": "markdown",
   "id": "f4d2f54a-2084-417b-bd36-1172ccac22e6",
   "metadata": {},
   "source": [
    "### Veri Yapıları"
   ]
  },
  {
   "cell_type": "code",
   "execution_count": 1,
   "id": "ac90a8a4-5edf-4003-b6b8-c270db1d94d8",
   "metadata": {},
   "outputs": [
    {
     "data": {
      "text/plain": [
       "int"
      ]
     },
     "execution_count": 1,
     "metadata": {},
     "output_type": "execute_result"
    }
   ],
   "source": [
    "x = 46\n",
    "type(x)"
   ]
  },
  {
   "cell_type": "code",
   "execution_count": 2,
   "id": "481155ed-186c-44a3-97e2-6953629dc339",
   "metadata": {},
   "outputs": [
    {
     "data": {
      "text/plain": [
       "float"
      ]
     },
     "execution_count": 2,
     "metadata": {},
     "output_type": "execute_result"
    }
   ],
   "source": [
    "x = 10.3\n",
    "type(x)"
   ]
  },
  {
   "cell_type": "code",
   "execution_count": 3,
   "id": "23d51dba-5653-4e64-a5e8-b37a6f699b40",
   "metadata": {},
   "outputs": [
    {
     "data": {
      "text/plain": [
       "complex"
      ]
     },
     "execution_count": 3,
     "metadata": {},
     "output_type": "execute_result"
    }
   ],
   "source": [
    "x = 2j +1\n",
    "type(x)"
   ]
  },
  {
   "cell_type": "code",
   "execution_count": 4,
   "id": "2500c30f-0b2a-4c1b-8073-1214ca444759",
   "metadata": {},
   "outputs": [
    {
     "data": {
      "text/plain": [
       "str"
      ]
     },
     "execution_count": 4,
     "metadata": {},
     "output_type": "execute_result"
    }
   ],
   "source": [
    "x = \"Hello ai era\"\n",
    "type(x)"
   ]
  },
  {
   "cell_type": "code",
   "execution_count": 5,
   "id": "7ece9141-7355-4eda-acff-b87434d02c02",
   "metadata": {},
   "outputs": [
    {
     "data": {
      "text/plain": [
       "True"
      ]
     },
     "execution_count": 5,
     "metadata": {},
     "output_type": "execute_result"
    }
   ],
   "source": [
    "True"
   ]
  },
  {
   "cell_type": "code",
   "execution_count": 6,
   "id": "64f3bfb2-1178-496c-a1ec-bd6da9a019f9",
   "metadata": {},
   "outputs": [
    {
     "data": {
      "text/plain": [
       "False"
      ]
     },
     "execution_count": 6,
     "metadata": {},
     "output_type": "execute_result"
    }
   ],
   "source": [
    "False"
   ]
  },
  {
   "cell_type": "code",
   "execution_count": 8,
   "id": "c5b521db-c328-4448-98eb-e11859875f62",
   "metadata": {},
   "outputs": [
    {
     "data": {
      "text/plain": [
       "bool"
      ]
     },
     "execution_count": 8,
     "metadata": {},
     "output_type": "execute_result"
    }
   ],
   "source": [
    "type(True)"
   ]
  },
  {
   "cell_type": "code",
   "execution_count": 9,
   "id": "26fd409a-9ff0-4c2a-9b44-45acf4ee79a4",
   "metadata": {},
   "outputs": [
    {
     "data": {
      "text/plain": [
       "False"
      ]
     },
     "execution_count": 9,
     "metadata": {},
     "output_type": "execute_result"
    }
   ],
   "source": [
    "5 == 4"
   ]
  },
  {
   "cell_type": "code",
   "execution_count": 10,
   "id": "e9ee6564-1dce-4c29-a231-8e94a88ded8b",
   "metadata": {},
   "outputs": [
    {
     "data": {
      "text/plain": [
       "True"
      ]
     },
     "execution_count": 10,
     "metadata": {},
     "output_type": "execute_result"
    }
   ],
   "source": [
    "3 == 3"
   ]
  },
  {
   "cell_type": "markdown",
   "id": "f143c1b0-754c-46fa-b42a-7c7292d917c5",
   "metadata": {},
   "source": [
    "### List"
   ]
  },
  {
   "cell_type": "code",
   "execution_count": 11,
   "id": "3c5c1612-7ac7-4357-b4c0-6e980626021a",
   "metadata": {},
   "outputs": [
    {
     "data": {
      "text/plain": [
       "list"
      ]
     },
     "execution_count": 11,
     "metadata": {},
     "output_type": "execute_result"
    }
   ],
   "source": [
    "x = ['a','b','c']\n",
    "type(x)"
   ]
  },
  {
   "cell_type": "markdown",
   "id": "b80466c4-7beb-4113-9701-f6ba11423bec",
   "metadata": {},
   "source": [
    "### Sözlük"
   ]
  },
  {
   "cell_type": "code",
   "execution_count": 12,
   "id": "f5644302-9e59-493a-a5f8-92b23eee31e0",
   "metadata": {},
   "outputs": [
    {
     "data": {
      "text/plain": [
       "dict"
      ]
     },
     "execution_count": 12,
     "metadata": {},
     "output_type": "execute_result"
    }
   ],
   "source": [
    "x = {\"name\": \"Mehmet\", \"Age\": 27}\n",
    "type(x)"
   ]
  },
  {
   "cell_type": "markdown",
   "id": "17fc7d6a-b25a-47f3-aa62-d957da7b7cbb",
   "metadata": {},
   "source": [
    "### Tuple (Demet)"
   ]
  },
  {
   "cell_type": "code",
   "execution_count": 13,
   "id": "aed6c7eb-3c15-4171-92fe-9400ecd91bea",
   "metadata": {},
   "outputs": [
    {
     "data": {
      "text/plain": [
       "tuple"
      ]
     },
     "execution_count": 13,
     "metadata": {},
     "output_type": "execute_result"
    }
   ],
   "source": [
    "x = (\"python\",\"c\",\"ds\")\n",
    "type(x)"
   ]
  },
  {
   "cell_type": "markdown",
   "id": "accf8160-2166-4a1a-87f0-5e5a5aba842a",
   "metadata": {},
   "source": [
    "### Set"
   ]
  },
  {
   "cell_type": "code",
   "execution_count": 14,
   "id": "80c54516-ac4d-4ee7-81d9-bd2d58851caa",
   "metadata": {},
   "outputs": [
    {
     "data": {
      "text/plain": [
       "set"
      ]
     },
     "execution_count": 14,
     "metadata": {},
     "output_type": "execute_result"
    }
   ],
   "source": [
    "x = {\"python\",\"c\",\"ds\"}\n",
    "type(x)"
   ]
  },
  {
   "cell_type": "markdown",
   "id": "6993b3cc-d8ff-4673-95d9-fa6b2c1813dc",
   "metadata": {},
   "source": [
    "### Not: Liste, tuple, set ve dictionary veri yapıları aynı zamanda Python Collections (Arrays) geçmektedir."
   ]
  },
  {
   "cell_type": "markdown",
   "id": "8eb9ae36-5c31-419c-9b3e-ac005d6b365a",
   "metadata": {},
   "source": [
    "## Sayılar"
   ]
  },
  {
   "cell_type": "code",
   "execution_count": 15,
   "id": "420b0722-46a9-43c3-9ca0-ad962773ddde",
   "metadata": {},
   "outputs": [],
   "source": [
    "a = 5\n",
    "b = 10.4"
   ]
  },
  {
   "cell_type": "code",
   "execution_count": 16,
   "id": "1ec0345f-587f-49e2-b9b1-2c41bb6f0480",
   "metadata": {},
   "outputs": [
    {
     "data": {
      "text/plain": [
       "5"
      ]
     },
     "execution_count": 16,
     "metadata": {},
     "output_type": "execute_result"
    }
   ],
   "source": [
    "a"
   ]
  },
  {
   "cell_type": "code",
   "execution_count": 17,
   "id": "319e67c4-c0b7-4ff4-8fe4-4ffa502f9b5a",
   "metadata": {},
   "outputs": [
    {
     "data": {
      "text/plain": [
       "10.4"
      ]
     },
     "execution_count": 17,
     "metadata": {},
     "output_type": "execute_result"
    }
   ],
   "source": [
    "b"
   ]
  },
  {
   "cell_type": "code",
   "execution_count": 19,
   "id": "0aed3d00-5480-4295-b012-d3c89b838a74",
   "metadata": {},
   "outputs": [
    {
     "data": {
      "text/plain": [
       "int"
      ]
     },
     "execution_count": 19,
     "metadata": {},
     "output_type": "execute_result"
    }
   ],
   "source": [
    "type(a)"
   ]
  },
  {
   "cell_type": "code",
   "execution_count": 20,
   "id": "7af50b9e-2e80-461e-8121-3ebdf10d6108",
   "metadata": {},
   "outputs": [
    {
     "data": {
      "text/plain": [
       "float"
      ]
     },
     "execution_count": 20,
     "metadata": {},
     "output_type": "execute_result"
    }
   ],
   "source": [
    "type(b)"
   ]
  },
  {
   "cell_type": "code",
   "execution_count": 21,
   "id": "c2d201ac-1cc9-49ab-8b4a-8c5968f566de",
   "metadata": {},
   "outputs": [
    {
     "data": {
      "text/plain": [
       "15"
      ]
     },
     "execution_count": 21,
     "metadata": {},
     "output_type": "execute_result"
    }
   ],
   "source": [
    "a*3"
   ]
  },
  {
   "cell_type": "code",
   "execution_count": 22,
   "id": "4e7449d8-d901-46bd-983c-80fbde7ee9a2",
   "metadata": {},
   "outputs": [
    {
     "data": {
      "text/plain": [
       "52.0"
      ]
     },
     "execution_count": 22,
     "metadata": {},
     "output_type": "execute_result"
    }
   ],
   "source": [
    "b*5"
   ]
  },
  {
   "cell_type": "code",
   "execution_count": 23,
   "id": "ec12144c-6bf7-46cf-9490-e331490f1bbc",
   "metadata": {},
   "outputs": [
    {
     "data": {
      "text/plain": [
       "1.4857142857142858"
      ]
     },
     "execution_count": 23,
     "metadata": {},
     "output_type": "execute_result"
    }
   ],
   "source": [
    "b/7"
   ]
  },
  {
   "cell_type": "code",
   "execution_count": 24,
   "id": "8c92ba2c-a83c-4d8e-ae1c-443be0b9cab7",
   "metadata": {},
   "outputs": [
    {
     "data": {
      "text/plain": [
       "108.16000000000001"
      ]
     },
     "execution_count": 24,
     "metadata": {},
     "output_type": "execute_result"
    }
   ],
   "source": [
    "b**2"
   ]
  },
  {
   "cell_type": "code",
   "execution_count": 25,
   "id": "ed0f048d-108d-4622-aa9e-feeb0421558e",
   "metadata": {},
   "outputs": [
    {
     "data": {
      "text/plain": [
       "25"
      ]
     },
     "execution_count": 25,
     "metadata": {},
     "output_type": "execute_result"
    }
   ],
   "source": [
    "a**2"
   ]
  },
  {
   "cell_type": "markdown",
   "id": "4cdab5e4-e3de-42f2-b820-3a72b68d4dd3",
   "metadata": {},
   "source": [
    "### Tipleri Değiştirmek"
   ]
  },
  {
   "cell_type": "code",
   "execution_count": 26,
   "id": "84c36c65-84c5-45f1-b33b-34c73298dc5e",
   "metadata": {},
   "outputs": [
    {
     "data": {
      "text/plain": [
       "10"
      ]
     },
     "execution_count": 26,
     "metadata": {},
     "output_type": "execute_result"
    }
   ],
   "source": [
    "int(b)"
   ]
  },
  {
   "cell_type": "code",
   "execution_count": 27,
   "id": "aeb54553-dd98-4eda-b492-9503d593a6da",
   "metadata": {},
   "outputs": [
    {
     "data": {
      "text/plain": [
       "5.0"
      ]
     },
     "execution_count": 27,
     "metadata": {},
     "output_type": "execute_result"
    }
   ],
   "source": [
    "float(a)"
   ]
  },
  {
   "cell_type": "markdown",
   "id": "0b70145b-1dff-42c5-8ee1-b20480551a64",
   "metadata": {},
   "source": [
    "### Karakter Dizileri (Strings)"
   ]
  },
  {
   "cell_type": "code",
   "execution_count": 31,
   "id": "15ad76e1-27c5-4a53-a365-9efadaa65bfb",
   "metadata": {},
   "outputs": [
    {
     "name": "stdout",
     "output_type": "stream",
     "text": [
      "Hello World\n"
     ]
    }
   ],
   "source": [
    "print(\"Hello World\")"
   ]
  },
  {
   "cell_type": "code",
   "execution_count": 33,
   "id": "08190454-2780-439e-a783-e7f99fc26e3b",
   "metadata": {},
   "outputs": [],
   "source": [
    "name = \"John\""
   ]
  },
  {
   "cell_type": "code",
   "execution_count": 35,
   "id": "6038a462-e8ab-4830-a303-5a63860b28bb",
   "metadata": {},
   "outputs": [
    {
     "name": "stdout",
     "output_type": "stream",
     "text": [
      "John\n"
     ]
    }
   ],
   "source": [
    "print(name)"
   ]
  },
  {
   "cell_type": "code",
   "execution_count": 36,
   "id": "aaca3a8e-4a66-463d-b6e9-f5b02fbf4348",
   "metadata": {},
   "outputs": [
    {
     "data": {
      "text/plain": [
       "'J'"
      ]
     },
     "execution_count": 36,
     "metadata": {},
     "output_type": "execute_result"
    }
   ],
   "source": [
    "name[0]"
   ]
  },
  {
   "cell_type": "code",
   "execution_count": 37,
   "id": "d6df903c-4d30-4328-9687-1f1b7b213aeb",
   "metadata": {},
   "outputs": [
    {
     "data": {
      "text/plain": [
       "'Joh'"
      ]
     },
     "execution_count": 37,
     "metadata": {},
     "output_type": "execute_result"
    }
   ],
   "source": [
    "name[0:3]"
   ]
  },
  {
   "cell_type": "code",
   "execution_count": 38,
   "id": "d610d765-7323-4229-885b-a60b4de2f2a5",
   "metadata": {},
   "outputs": [
    {
     "data": {
      "text/plain": [
       "'John'"
      ]
     },
     "execution_count": 38,
     "metadata": {},
     "output_type": "execute_result"
    }
   ],
   "source": [
    "name[0:4]"
   ]
  },
  {
   "cell_type": "code",
   "execution_count": 39,
   "id": "e4c20814-4e2e-4f9e-96f1-e8c89dbef081",
   "metadata": {},
   "outputs": [],
   "source": [
    "dosya = \"\"\"Veri Yapıları Öğrenme\"\"\""
   ]
  },
  {
   "cell_type": "code",
   "execution_count": 40,
   "id": "29235cef-f4da-4b1e-94d1-848193084e14",
   "metadata": {},
   "outputs": [
    {
     "data": {
      "text/plain": [
       "True"
      ]
     },
     "execution_count": 40,
     "metadata": {},
     "output_type": "execute_result"
    }
   ],
   "source": [
    "\"Veri\" in dosya"
   ]
  },
  {
   "cell_type": "code",
   "execution_count": 41,
   "id": "b3b0eec7-5164-4e1a-9e7e-48d02d2f770c",
   "metadata": {},
   "outputs": [
    {
     "data": {
      "text/plain": [
       "False"
      ]
     },
     "execution_count": 41,
     "metadata": {},
     "output_type": "execute_result"
    }
   ],
   "source": [
    "\"C#\" in dosya"
   ]
  },
  {
   "cell_type": "markdown",
   "id": "9fd3215d-d701-498f-b688-21197bdf7397",
   "metadata": {},
   "source": [
    "### String (Karakter Dizisi) Metodları"
   ]
  },
  {
   "cell_type": "code",
   "execution_count": 42,
   "id": "c3998bd8-efe7-4e0b-aa9d-2faa45e09a2e",
   "metadata": {
    "collapsed": true,
    "jupyter": {
     "outputs_hidden": true
    },
    "tags": []
   },
   "outputs": [
    {
     "data": {
      "text/plain": [
       "['__abs__',\n",
       " '__add__',\n",
       " '__and__',\n",
       " '__bool__',\n",
       " '__ceil__',\n",
       " '__class__',\n",
       " '__delattr__',\n",
       " '__dir__',\n",
       " '__divmod__',\n",
       " '__doc__',\n",
       " '__eq__',\n",
       " '__float__',\n",
       " '__floor__',\n",
       " '__floordiv__',\n",
       " '__format__',\n",
       " '__ge__',\n",
       " '__getattribute__',\n",
       " '__getnewargs__',\n",
       " '__gt__',\n",
       " '__hash__',\n",
       " '__index__',\n",
       " '__init__',\n",
       " '__init_subclass__',\n",
       " '__int__',\n",
       " '__invert__',\n",
       " '__le__',\n",
       " '__lshift__',\n",
       " '__lt__',\n",
       " '__mod__',\n",
       " '__mul__',\n",
       " '__ne__',\n",
       " '__neg__',\n",
       " '__new__',\n",
       " '__or__',\n",
       " '__pos__',\n",
       " '__pow__',\n",
       " '__radd__',\n",
       " '__rand__',\n",
       " '__rdivmod__',\n",
       " '__reduce__',\n",
       " '__reduce_ex__',\n",
       " '__repr__',\n",
       " '__rfloordiv__',\n",
       " '__rlshift__',\n",
       " '__rmod__',\n",
       " '__rmul__',\n",
       " '__ror__',\n",
       " '__round__',\n",
       " '__rpow__',\n",
       " '__rrshift__',\n",
       " '__rshift__',\n",
       " '__rsub__',\n",
       " '__rtruediv__',\n",
       " '__rxor__',\n",
       " '__setattr__',\n",
       " '__sizeof__',\n",
       " '__str__',\n",
       " '__sub__',\n",
       " '__subclasshook__',\n",
       " '__truediv__',\n",
       " '__trunc__',\n",
       " '__xor__',\n",
       " 'as_integer_ratio',\n",
       " 'bit_length',\n",
       " 'conjugate',\n",
       " 'denominator',\n",
       " 'from_bytes',\n",
       " 'imag',\n",
       " 'numerator',\n",
       " 'real',\n",
       " 'to_bytes']"
      ]
     },
     "execution_count": 42,
     "metadata": {},
     "output_type": "execute_result"
    }
   ],
   "source": [
    "dir(int)"
   ]
  },
  {
   "cell_type": "code",
   "execution_count": 43,
   "id": "3bfcde53-e3b8-45d1-a071-ff332b3d3720",
   "metadata": {
    "collapsed": true,
    "jupyter": {
     "outputs_hidden": true
    },
    "tags": []
   },
   "outputs": [
    {
     "data": {
      "text/plain": [
       "['__add__',\n",
       " '__class__',\n",
       " '__contains__',\n",
       " '__delattr__',\n",
       " '__dir__',\n",
       " '__doc__',\n",
       " '__eq__',\n",
       " '__format__',\n",
       " '__ge__',\n",
       " '__getattribute__',\n",
       " '__getitem__',\n",
       " '__getnewargs__',\n",
       " '__gt__',\n",
       " '__hash__',\n",
       " '__init__',\n",
       " '__init_subclass__',\n",
       " '__iter__',\n",
       " '__le__',\n",
       " '__len__',\n",
       " '__lt__',\n",
       " '__mod__',\n",
       " '__mul__',\n",
       " '__ne__',\n",
       " '__new__',\n",
       " '__reduce__',\n",
       " '__reduce_ex__',\n",
       " '__repr__',\n",
       " '__rmod__',\n",
       " '__rmul__',\n",
       " '__setattr__',\n",
       " '__sizeof__',\n",
       " '__str__',\n",
       " '__subclasshook__',\n",
       " 'capitalize',\n",
       " 'casefold',\n",
       " 'center',\n",
       " 'count',\n",
       " 'encode',\n",
       " 'endswith',\n",
       " 'expandtabs',\n",
       " 'find',\n",
       " 'format',\n",
       " 'format_map',\n",
       " 'index',\n",
       " 'isalnum',\n",
       " 'isalpha',\n",
       " 'isascii',\n",
       " 'isdecimal',\n",
       " 'isdigit',\n",
       " 'isidentifier',\n",
       " 'islower',\n",
       " 'isnumeric',\n",
       " 'isprintable',\n",
       " 'isspace',\n",
       " 'istitle',\n",
       " 'isupper',\n",
       " 'join',\n",
       " 'ljust',\n",
       " 'lower',\n",
       " 'lstrip',\n",
       " 'maketrans',\n",
       " 'partition',\n",
       " 'removeprefix',\n",
       " 'removesuffix',\n",
       " 'replace',\n",
       " 'rfind',\n",
       " 'rindex',\n",
       " 'rjust',\n",
       " 'rpartition',\n",
       " 'rsplit',\n",
       " 'rstrip',\n",
       " 'split',\n",
       " 'splitlines',\n",
       " 'startswith',\n",
       " 'strip',\n",
       " 'swapcase',\n",
       " 'title',\n",
       " 'translate',\n",
       " 'upper',\n",
       " 'zfill']"
      ]
     },
     "execution_count": 43,
     "metadata": {},
     "output_type": "execute_result"
    }
   ],
   "source": [
    "dir(str)"
   ]
  },
  {
   "cell_type": "code",
   "execution_count": 44,
   "id": "637618e4-bfaf-4db9-8568-a4356f8fdabb",
   "metadata": {},
   "outputs": [],
   "source": [
    "scarface = \"The World Is Yours\""
   ]
  },
  {
   "cell_type": "code",
   "execution_count": 45,
   "id": "72e6399b-1a37-4788-a46d-0728ca355e04",
   "metadata": {},
   "outputs": [
    {
     "data": {
      "text/plain": [
       "str"
      ]
     },
     "execution_count": 45,
     "metadata": {},
     "output_type": "execute_result"
    }
   ],
   "source": [
    "type(scarface)"
   ]
  },
  {
   "cell_type": "code",
   "execution_count": 46,
   "id": "7b7eb566-7868-4f24-aacb-a3b0868d785f",
   "metadata": {},
   "outputs": [
    {
     "data": {
      "text/plain": [
       "builtin_function_or_method"
      ]
     },
     "execution_count": 46,
     "metadata": {},
     "output_type": "execute_result"
    }
   ],
   "source": [
    "type(len)"
   ]
  },
  {
   "cell_type": "code",
   "execution_count": 47,
   "id": "23ca8780-50db-4fa4-a74c-aa54255bf60d",
   "metadata": {},
   "outputs": [
    {
     "data": {
      "text/plain": [
       "18"
      ]
     },
     "execution_count": 47,
     "metadata": {},
     "output_type": "execute_result"
    }
   ],
   "source": [
    "len(scarface)"
   ]
  },
  {
   "cell_type": "code",
   "execution_count": 48,
   "id": "640dcb4f-3f75-41c1-9941-e6c9916cd8e1",
   "metadata": {},
   "outputs": [
    {
     "data": {
      "text/plain": [
       "10"
      ]
     },
     "execution_count": 48,
     "metadata": {},
     "output_type": "execute_result"
    }
   ],
   "source": [
    "len(\"burakgökçe\")"
   ]
  },
  {
   "cell_type": "code",
   "execution_count": 49,
   "id": "28acaffa-79bd-4323-b7d9-ec364ece5711",
   "metadata": {},
   "outputs": [
    {
     "data": {
      "text/plain": [
       "6"
      ]
     },
     "execution_count": 49,
     "metadata": {},
     "output_type": "execute_result"
    }
   ],
   "source": [
    "len(\"python\")"
   ]
  },
  {
   "cell_type": "code",
   "execution_count": 50,
   "id": "367fead6-a5be-4a3e-a0ec-c6dcb77e3c09",
   "metadata": {},
   "outputs": [
    {
     "data": {
      "text/plain": [
       "'THE WORLD IS YOURS'"
      ]
     },
     "execution_count": 50,
     "metadata": {},
     "output_type": "execute_result"
    }
   ],
   "source": [
    "scarface.upper()"
   ]
  },
  {
   "cell_type": "code",
   "execution_count": 51,
   "id": "5ab299b9-d1e5-46a3-a0b2-c4b8894fe3ec",
   "metadata": {},
   "outputs": [
    {
     "data": {
      "text/plain": [
       "'the world is yours'"
      ]
     },
     "execution_count": 51,
     "metadata": {},
     "output_type": "execute_result"
    }
   ],
   "source": [
    "scarface.lower()"
   ]
  },
  {
   "cell_type": "code",
   "execution_count": 52,
   "id": "1cf2c101-7fed-4b73-b766-6c1bcc014b04",
   "metadata": {},
   "outputs": [
    {
     "data": {
      "text/plain": [
       "'UDEMY'"
      ]
     },
     "execution_count": 52,
     "metadata": {},
     "output_type": "execute_result"
    }
   ],
   "source": [
    "\"udemy\".upper()"
   ]
  },
  {
   "cell_type": "code",
   "execution_count": 53,
   "id": "efa6551a-9332-4d62-890d-c31b0172be66",
   "metadata": {},
   "outputs": [
    {
     "data": {
      "text/plain": [
       "'plane'"
      ]
     },
     "execution_count": 53,
     "metadata": {},
     "output_type": "execute_result"
    }
   ],
   "source": [
    "\"PLANE\".lower()"
   ]
  },
  {
   "cell_type": "code",
   "execution_count": 54,
   "id": "b1eedcff-1f22-481f-9e84-d0eec74d5f74",
   "metadata": {},
   "outputs": [
    {
     "data": {
      "text/plain": [
       "'The Planet Is Yours'"
      ]
     },
     "execution_count": 54,
     "metadata": {},
     "output_type": "execute_result"
    }
   ],
   "source": [
    "scarface.replace(\"World\",\"Planet\")"
   ]
  },
  {
   "cell_type": "code",
   "execution_count": 55,
   "id": "b55f8b17-c00a-4340-ac6c-b1c4193c081f",
   "metadata": {},
   "outputs": [
    {
     "data": {
      "text/plain": [
       "['The', 'World', 'Is', 'Yours']"
      ]
     },
     "execution_count": 55,
     "metadata": {},
     "output_type": "execute_result"
    }
   ],
   "source": [
    "scarface.split()"
   ]
  },
  {
   "cell_type": "code",
   "execution_count": 56,
   "id": "d6c70d69-dc17-4183-bb0d-24d4f3cb3ed9",
   "metadata": {},
   "outputs": [
    {
     "data": {
      "text/plain": [
       "'Hello World'"
      ]
     },
     "execution_count": 56,
     "metadata": {},
     "output_type": "execute_result"
    }
   ],
   "source": [
    "\" Hello World \".strip()"
   ]
  },
  {
   "cell_type": "code",
   "execution_count": 57,
   "id": "7abebe93-cd5e-4b62-b68b-bbea9c80c2ea",
   "metadata": {},
   "outputs": [
    {
     "data": {
      "text/plain": [
       "'fof'"
      ]
     },
     "execution_count": 57,
     "metadata": {},
     "output_type": "execute_result"
    }
   ],
   "source": [
    "\"ofofo\".strip(\"o\")"
   ]
  },
  {
   "cell_type": "code",
   "execution_count": 58,
   "id": "a30824b5-3cca-49fb-80b6-0ca267cb6560",
   "metadata": {},
   "outputs": [
    {
     "data": {
      "text/plain": [
       "'White'"
      ]
     },
     "execution_count": 58,
     "metadata": {},
     "output_type": "execute_result"
    }
   ],
   "source": [
    "\"white\".capitalize()"
   ]
  },
  {
   "cell_type": "code",
   "execution_count": 59,
   "id": "cd9a13b6-f026-41b4-985c-a2da83e29feb",
   "metadata": {},
   "outputs": [
    {
     "data": {
      "text/plain": [
       "True"
      ]
     },
     "execution_count": 59,
     "metadata": {},
     "output_type": "execute_result"
    }
   ],
   "source": [
    "\"fang\".startswith(\"f\")"
   ]
  },
  {
   "cell_type": "markdown",
   "id": "bd4e085f-30ec-43bf-8f7b-97aaeac646c0",
   "metadata": {},
   "source": [
    "### Lists"
   ]
  },
  {
   "cell_type": "code",
   "execution_count": 61,
   "id": "98cef03c-7e18-4a13-9598-b6234e770cb6",
   "metadata": {},
   "outputs": [],
   "source": [
    "# Değiştirilebilir\n",
    "# Sıralıdır. Index işlemleri yapılabilir.\n",
    "# Kapsayıcıdır."
   ]
  },
  {
   "cell_type": "code",
   "execution_count": 62,
   "id": "952313e5-3ac8-456d-be14-c93482f47e42",
   "metadata": {},
   "outputs": [
    {
     "data": {
      "text/plain": [
       "list"
      ]
     },
     "execution_count": 62,
     "metadata": {},
     "output_type": "execute_result"
    }
   ],
   "source": [
    "listem = [9,8,7,6]\n",
    "type(listem)"
   ]
  },
  {
   "cell_type": "code",
   "execution_count": 63,
   "id": "0c308c52-de64-4cc5-915d-53a729e4a212",
   "metadata": {},
   "outputs": [],
   "source": [
    "isimler = [\"ali\",\"veli\",\"murat\"]"
   ]
  },
  {
   "cell_type": "code",
   "execution_count": 67,
   "id": "c286253c-d738-4df4-a791-b999b33b79f7",
   "metadata": {},
   "outputs": [],
   "source": [
    "karisik = [9,8,7,\"ali\",\"veli\",True,[3,2,1]]"
   ]
  },
  {
   "cell_type": "code",
   "execution_count": 68,
   "id": "77c509d4-b7ad-41e4-8197-b5ec9b1f4368",
   "metadata": {},
   "outputs": [
    {
     "data": {
      "text/plain": [
       "'ali'"
      ]
     },
     "execution_count": 68,
     "metadata": {},
     "output_type": "execute_result"
    }
   ],
   "source": [
    "karisik[3]"
   ]
  },
  {
   "cell_type": "code",
   "execution_count": 70,
   "id": "fb9a8465-7204-4582-9fb5-39c4d33a5e79",
   "metadata": {},
   "outputs": [
    {
     "data": {
      "text/plain": [
       "True"
      ]
     },
     "execution_count": 70,
     "metadata": {},
     "output_type": "execute_result"
    }
   ],
   "source": [
    "karisik[5]"
   ]
  },
  {
   "cell_type": "code",
   "execution_count": 72,
   "id": "a3168eb1-bae0-4c79-9629-6ae565ae05af",
   "metadata": {},
   "outputs": [
    {
     "data": {
      "text/plain": [
       "3"
      ]
     },
     "execution_count": 72,
     "metadata": {},
     "output_type": "execute_result"
    }
   ],
   "source": [
    "karisik[6][0]"
   ]
  },
  {
   "cell_type": "code",
   "execution_count": 73,
   "id": "3a4f128b-f191-4b5e-82ca-852114079cee",
   "metadata": {},
   "outputs": [],
   "source": [
    "karisik[0] = 100"
   ]
  },
  {
   "cell_type": "code",
   "execution_count": 74,
   "id": "b1286acb-d894-4337-8a85-ce70775c3aa8",
   "metadata": {},
   "outputs": [
    {
     "data": {
      "text/plain": [
       "[100, 8, 7, 'ali', 'veli', True, [3, 2, 1]]"
      ]
     },
     "execution_count": 74,
     "metadata": {},
     "output_type": "execute_result"
    }
   ],
   "source": [
    "karisik"
   ]
  },
  {
   "cell_type": "markdown",
   "id": "d06d35a6-f709-403c-9a79-8d68f74540b8",
   "metadata": {},
   "source": [
    "### Liste Metodları"
   ]
  },
  {
   "cell_type": "code",
   "execution_count": 75,
   "id": "d729fdae-5311-4fa7-974d-d6c6b8a14802",
   "metadata": {
    "collapsed": true,
    "jupyter": {
     "outputs_hidden": true
    },
    "tags": []
   },
   "outputs": [
    {
     "data": {
      "text/plain": [
       "['__add__',\n",
       " '__class__',\n",
       " '__class_getitem__',\n",
       " '__contains__',\n",
       " '__delattr__',\n",
       " '__delitem__',\n",
       " '__dir__',\n",
       " '__doc__',\n",
       " '__eq__',\n",
       " '__format__',\n",
       " '__ge__',\n",
       " '__getattribute__',\n",
       " '__getitem__',\n",
       " '__gt__',\n",
       " '__hash__',\n",
       " '__iadd__',\n",
       " '__imul__',\n",
       " '__init__',\n",
       " '__init_subclass__',\n",
       " '__iter__',\n",
       " '__le__',\n",
       " '__len__',\n",
       " '__lt__',\n",
       " '__mul__',\n",
       " '__ne__',\n",
       " '__new__',\n",
       " '__reduce__',\n",
       " '__reduce_ex__',\n",
       " '__repr__',\n",
       " '__reversed__',\n",
       " '__rmul__',\n",
       " '__setattr__',\n",
       " '__setitem__',\n",
       " '__sizeof__',\n",
       " '__str__',\n",
       " '__subclasshook__',\n",
       " 'append',\n",
       " 'clear',\n",
       " 'copy',\n",
       " 'count',\n",
       " 'extend',\n",
       " 'index',\n",
       " 'insert',\n",
       " 'pop',\n",
       " 'remove',\n",
       " 'reverse',\n",
       " 'sort']"
      ]
     },
     "execution_count": 75,
     "metadata": {},
     "output_type": "execute_result"
    }
   ],
   "source": [
    "dir(listem)"
   ]
  },
  {
   "cell_type": "code",
   "execution_count": 76,
   "id": "f2b69681-8ed8-4835-939e-40521eaffe06",
   "metadata": {},
   "outputs": [
    {
     "data": {
      "text/plain": [
       "4"
      ]
     },
     "execution_count": 76,
     "metadata": {},
     "output_type": "execute_result"
    }
   ],
   "source": [
    "len(listem)"
   ]
  },
  {
   "cell_type": "code",
   "execution_count": 78,
   "id": "d9b66629-03f2-4430-b1d6-d2917c4ba7bf",
   "metadata": {},
   "outputs": [],
   "source": [
    "listem.append(\"5000\")"
   ]
  },
  {
   "cell_type": "code",
   "execution_count": 79,
   "id": "80b0e75c-7bc9-4448-b444-04493b296822",
   "metadata": {},
   "outputs": [
    {
     "data": {
      "text/plain": [
       "[9, 8, 7, 6, '5000']"
      ]
     },
     "execution_count": 79,
     "metadata": {},
     "output_type": "execute_result"
    }
   ],
   "source": [
    "listem"
   ]
  },
  {
   "cell_type": "code",
   "execution_count": 81,
   "id": "7c09a4fd-14c3-4f22-b743-3edda8fa5989",
   "metadata": {},
   "outputs": [],
   "source": [
    "listem.append(2500)"
   ]
  },
  {
   "cell_type": "code",
   "execution_count": 82,
   "id": "5e4fe39a-d811-498c-9e36-73ce11490be9",
   "metadata": {},
   "outputs": [
    {
     "data": {
      "text/plain": [
       "[9, 8, 7, 6, '5000', 2500, 2500]"
      ]
     },
     "execution_count": 82,
     "metadata": {},
     "output_type": "execute_result"
    }
   ],
   "source": [
    "listem"
   ]
  },
  {
   "cell_type": "code",
   "execution_count": 83,
   "id": "60b4d148-119c-44a1-a94b-c787ce681595",
   "metadata": {},
   "outputs": [
    {
     "data": {
      "text/plain": [
       "9"
      ]
     },
     "execution_count": 83,
     "metadata": {},
     "output_type": "execute_result"
    }
   ],
   "source": [
    "listem.pop(0)\n",
    "#0. indeksi sildi"
   ]
  },
  {
   "cell_type": "code",
   "execution_count": 84,
   "id": "e2684d3a-2ffc-410c-871d-a7897a619fb6",
   "metadata": {},
   "outputs": [
    {
     "data": {
      "text/plain": [
       "[8, 7, 6, '5000', 2500, 2500]"
      ]
     },
     "execution_count": 84,
     "metadata": {},
     "output_type": "execute_result"
    }
   ],
   "source": [
    "listem"
   ]
  },
  {
   "cell_type": "code",
   "execution_count": 87,
   "id": "6c07c38d-84a2-4ac2-8ed2-30534d3ecc65",
   "metadata": {},
   "outputs": [],
   "source": [
    "listem.insert(2,986)\n",
    "#2. indekse 986 değerini ekledik."
   ]
  },
  {
   "cell_type": "code",
   "execution_count": 88,
   "id": "d262631d-c821-4dd2-b4ae-e69da741590d",
   "metadata": {},
   "outputs": [
    {
     "data": {
      "text/plain": [
       "[8, 7, 986, 986, 6, '5000', 2500, 2500]"
      ]
     },
     "execution_count": 88,
     "metadata": {},
     "output_type": "execute_result"
    }
   ],
   "source": [
    "listem"
   ]
  },
  {
   "cell_type": "markdown",
   "id": "3ae807bc-96a9-4ba9-b054-343a1a0ed701",
   "metadata": {},
   "source": [
    "### Dictionary (Sözlük)"
   ]
  },
  {
   "cell_type": "code",
   "execution_count": 90,
   "id": "980e1693-6dd8-4530-b2cb-64ccd3d48ad6",
   "metadata": {},
   "outputs": [],
   "source": [
    "# Değiştirilebilir.\n",
    "# Sırasız. (3.7 sonra sıralı)\n",
    "# Kapsayıcı.\n",
    "# Key-Value şeklindedir."
   ]
  },
  {
   "cell_type": "code",
   "execution_count": 94,
   "id": "b37555f3-effc-4f4a-a311-4179f8a92fe3",
   "metadata": {},
   "outputs": [],
   "source": [
    "dictionary  = {\"Reg\": \"Regression\",\n",
    "              \"LOg\": \"Logistic Regression\",\n",
    "              \"CART\": \"Classification and Reg\"}"
   ]
  },
  {
   "cell_type": "code",
   "execution_count": 95,
   "id": "22fd7727-cf22-41b5-bb6c-242229b42be3",
   "metadata": {},
   "outputs": [
    {
     "data": {
      "text/plain": [
       "{'Reg': 'Regression',\n",
       " 'LOg': 'Logistic Regression',\n",
       " 'CART': 'Classification and Reg'}"
      ]
     },
     "execution_count": 95,
     "metadata": {},
     "output_type": "execute_result"
    }
   ],
   "source": [
    "dictionary"
   ]
  },
  {
   "cell_type": "code",
   "execution_count": 98,
   "id": "85e2553d-b60d-4525-8d54-61bf72c57d8b",
   "metadata": {},
   "outputs": [
    {
     "data": {
      "text/plain": [
       "'Regression'"
      ]
     },
     "execution_count": 98,
     "metadata": {},
     "output_type": "execute_result"
    }
   ],
   "source": [
    "dictionary[\"Reg\"]"
   ]
  },
  {
   "cell_type": "code",
   "execution_count": 99,
   "id": "06ef2be1-771b-4aba-b853-27694a6de054",
   "metadata": {},
   "outputs": [],
   "source": [
    "dictionary  = {\"Reg\": [\"RMSE\",10],\n",
    "              \"LOg\": [\"MSE\",20],\n",
    "              \"CART\": [\"SSE\",30]}"
   ]
  },
  {
   "cell_type": "code",
   "execution_count": 100,
   "id": "9c842f4c-f868-4d57-ad58-68ba654f268f",
   "metadata": {},
   "outputs": [
    {
     "data": {
      "text/plain": [
       "{'Reg': ['RMSE', 10], 'LOg': ['MSE', 20], 'CART': ['SSE', 30]}"
      ]
     },
     "execution_count": 100,
     "metadata": {},
     "output_type": "execute_result"
    }
   ],
   "source": [
    "dictionary"
   ]
  },
  {
   "cell_type": "code",
   "execution_count": 101,
   "id": "96b8b39c-0189-406a-bdef-a15b48ae6aa6",
   "metadata": {},
   "outputs": [],
   "source": [
    "dictionary  = {\"Reg\": [10],\n",
    "              \"LOg\": [20],\n",
    "              \"CART\": [30]}"
   ]
  },
  {
   "cell_type": "code",
   "execution_count": 102,
   "id": "835e4dd1-5724-48cb-b5b5-0210d88999a2",
   "metadata": {},
   "outputs": [
    {
     "data": {
      "text/plain": [
       "[10]"
      ]
     },
     "execution_count": 102,
     "metadata": {},
     "output_type": "execute_result"
    }
   ],
   "source": [
    "dictionary[\"Reg\"]"
   ]
  },
  {
   "cell_type": "code",
   "execution_count": 103,
   "id": "b8a561ec-021a-47e8-82f9-1223d4a48871",
   "metadata": {},
   "outputs": [
    {
     "data": {
      "text/plain": [
       "True"
      ]
     },
     "execution_count": 103,
     "metadata": {},
     "output_type": "execute_result"
    }
   ],
   "source": [
    "\"Reg\" in dictionary"
   ]
  },
  {
   "cell_type": "code",
   "execution_count": 104,
   "id": "8a357947-8d78-4abf-aade-576a4b89995b",
   "metadata": {},
   "outputs": [],
   "source": [
    "dictionary[\"Reg\"] = [\"Yas\",10]"
   ]
  },
  {
   "cell_type": "code",
   "execution_count": 105,
   "id": "876a93da-a6eb-4f6c-b364-06f4b45946a9",
   "metadata": {},
   "outputs": [
    {
     "data": {
      "text/plain": [
       "{'Reg': ['Yas', 10], 'LOg': [20], 'CART': [30]}"
      ]
     },
     "execution_count": 105,
     "metadata": {},
     "output_type": "execute_result"
    }
   ],
   "source": [
    "dictionary"
   ]
  },
  {
   "cell_type": "code",
   "execution_count": 106,
   "id": "9b8f486d-fa24-4c33-8aee-e62f29aa7b63",
   "metadata": {},
   "outputs": [
    {
     "data": {
      "text/plain": [
       "dict_keys(['Reg', 'LOg', 'CART'])"
      ]
     },
     "execution_count": 106,
     "metadata": {},
     "output_type": "execute_result"
    }
   ],
   "source": [
    "dictionary.keys()"
   ]
  },
  {
   "cell_type": "code",
   "execution_count": 107,
   "id": "1b271cf9-daeb-41ed-bbdc-76426f60643f",
   "metadata": {},
   "outputs": [
    {
     "data": {
      "text/plain": [
       "dict_values([['Yas', 10], [20], [30]])"
      ]
     },
     "execution_count": 107,
     "metadata": {},
     "output_type": "execute_result"
    }
   ],
   "source": [
    "dictionary.values()"
   ]
  },
  {
   "cell_type": "code",
   "execution_count": 108,
   "id": "02c1972e-bab4-4386-8cd1-f19868594d65",
   "metadata": {},
   "outputs": [
    {
     "data": {
      "text/plain": [
       "dict_items([('Reg', ['Yas', 10]), ('LOg', [20]), ('CART', [30])])"
      ]
     },
     "execution_count": 108,
     "metadata": {},
     "output_type": "execute_result"
    }
   ],
   "source": [
    "dictionary.items()"
   ]
  },
  {
   "cell_type": "code",
   "execution_count": 109,
   "id": "c2fabdb1-104d-4cfb-bec7-9800eee3c765",
   "metadata": {},
   "outputs": [],
   "source": [
    "dictionary.update({\"Reg\": 12})"
   ]
  },
  {
   "cell_type": "code",
   "execution_count": 110,
   "id": "1ef5a4ae-46e1-4299-9fc6-9b18b5d37ad5",
   "metadata": {},
   "outputs": [
    {
     "data": {
      "text/plain": [
       "{'Reg': 12, 'LOg': [20], 'CART': [30]}"
      ]
     },
     "execution_count": 110,
     "metadata": {},
     "output_type": "execute_result"
    }
   ],
   "source": [
    "dictionary"
   ]
  },
  {
   "cell_type": "code",
   "execution_count": 111,
   "id": "4921abee-4d8d-47b5-afed-5184301b9f1f",
   "metadata": {},
   "outputs": [],
   "source": [
    "dictionary.update({\"ML\": 33})"
   ]
  },
  {
   "cell_type": "code",
   "execution_count": 112,
   "id": "3353969e-3503-4444-be3d-cdfeb86e30c0",
   "metadata": {},
   "outputs": [
    {
     "data": {
      "text/plain": [
       "{'Reg': 12, 'LOg': [20], 'CART': [30], 'ML': 33}"
      ]
     },
     "execution_count": 112,
     "metadata": {},
     "output_type": "execute_result"
    }
   ],
   "source": [
    "dictionary"
   ]
  },
  {
   "cell_type": "markdown",
   "id": "c6ae7f59-c1de-4999-8d25-feeb11959f8f",
   "metadata": {},
   "source": [
    "### Tuple (Demet)"
   ]
  },
  {
   "cell_type": "code",
   "execution_count": 113,
   "id": "d8b71af6-a546-413c-9d67-a054f8c0ecce",
   "metadata": {},
   "outputs": [],
   "source": [
    "# Değiştirilemez.\n",
    "# Sıralıdır.\n",
    "# Kapsayıcıdır."
   ]
  },
  {
   "cell_type": "code",
   "execution_count": 114,
   "id": "6bfd2bef-5c4d-4831-8a2f-5ff43b9d947b",
   "metadata": {},
   "outputs": [],
   "source": [
    "e = (\"asya\",\"avrupa\",52,32)"
   ]
  },
  {
   "cell_type": "code",
   "execution_count": 115,
   "id": "8e8b7d07-7c74-4bf4-b2b7-a9e0991940e8",
   "metadata": {},
   "outputs": [
    {
     "data": {
      "text/plain": [
       "('asya', 'avrupa', 52, 32)"
      ]
     },
     "execution_count": 115,
     "metadata": {},
     "output_type": "execute_result"
    }
   ],
   "source": [
    "e"
   ]
  },
  {
   "cell_type": "code",
   "execution_count": 116,
   "id": "208d7526-5ea7-4c5f-ba87-26bfb9c7b484",
   "metadata": {},
   "outputs": [
    {
     "data": {
      "text/plain": [
       "tuple"
      ]
     },
     "execution_count": 116,
     "metadata": {},
     "output_type": "execute_result"
    }
   ],
   "source": [
    "type(e)"
   ]
  },
  {
   "cell_type": "code",
   "execution_count": 117,
   "id": "5e20b7ad-caec-4366-972f-f54e41dd9025",
   "metadata": {},
   "outputs": [
    {
     "data": {
      "text/plain": [
       "('asya', 'avrupa', 52, 32)"
      ]
     },
     "execution_count": 117,
     "metadata": {},
     "output_type": "execute_result"
    }
   ],
   "source": [
    "e[0:]"
   ]
  },
  {
   "cell_type": "markdown",
   "id": "bcf367f4-4eca-49e7-a0d5-a3e5b7728114",
   "metadata": {},
   "source": [
    "### Set"
   ]
  },
  {
   "cell_type": "code",
   "execution_count": 119,
   "id": "ebdb6895-db6e-4bb3-b190-517e1ee0229c",
   "metadata": {},
   "outputs": [],
   "source": [
    "# Değiştirilebilir.\n",
    "# Sırasız + Eşsizdir.\n",
    "# Kapsayıcıdır."
   ]
  },
  {
   "cell_type": "code",
   "execution_count": 120,
   "id": "5d463b64-6eb9-4e6b-a065-df1f986ffc88",
   "metadata": {},
   "outputs": [],
   "source": [
    "# difference(): İki kümenin farkı"
   ]
  },
  {
   "cell_type": "code",
   "execution_count": 121,
   "id": "069d9c89-d283-4458-89c1-07b52138fd94",
   "metadata": {},
   "outputs": [],
   "source": [
    "set1 = set([1,3,5])\n",
    "set2 = set([1,2,3])"
   ]
  },
  {
   "cell_type": "code",
   "execution_count": 122,
   "id": "f38e750e-1d45-4d2f-a998-1780ff5d15dc",
   "metadata": {},
   "outputs": [
    {
     "data": {
      "text/plain": [
       "set"
      ]
     },
     "execution_count": 122,
     "metadata": {},
     "output_type": "execute_result"
    }
   ],
   "source": [
    "type(set1)"
   ]
  },
  {
   "cell_type": "code",
   "execution_count": 123,
   "id": "ab7364e7-f832-4e22-b3b9-683881de2379",
   "metadata": {},
   "outputs": [
    {
     "data": {
      "text/plain": [
       "set"
      ]
     },
     "execution_count": 123,
     "metadata": {},
     "output_type": "execute_result"
    }
   ],
   "source": [
    "type(set2)"
   ]
  },
  {
   "cell_type": "code",
   "execution_count": 125,
   "id": "9636ce7f-ad1f-429d-bde8-230905db95f5",
   "metadata": {},
   "outputs": [
    {
     "data": {
      "text/plain": [
       "{5}"
      ]
     },
     "execution_count": 125,
     "metadata": {},
     "output_type": "execute_result"
    }
   ],
   "source": [
    "set1.difference(set2)\n",
    "#set1 de olup set2 de olmayan değer."
   ]
  },
  {
   "cell_type": "code",
   "execution_count": 127,
   "id": "d69868fe-5020-4d7c-9533-77fccdb8871d",
   "metadata": {},
   "outputs": [
    {
     "data": {
      "text/plain": [
       "{2}"
      ]
     },
     "execution_count": 127,
     "metadata": {},
     "output_type": "execute_result"
    }
   ],
   "source": [
    "set2.difference(set1)\n",
    "#set2'de olup set1'de olmayanlar."
   ]
  },
  {
   "cell_type": "code",
   "execution_count": 129,
   "id": "54fd8bb3-d3e1-4551-b2c3-eff13c13543b",
   "metadata": {},
   "outputs": [
    {
     "data": {
      "text/plain": [
       "{2, 5}"
      ]
     },
     "execution_count": 129,
     "metadata": {},
     "output_type": "execute_result"
    }
   ],
   "source": [
    "set1.symmetric_difference(set2)\n",
    "#her ikisinde de olmayanlar geldi"
   ]
  },
  {
   "cell_type": "code",
   "execution_count": 131,
   "id": "eed0ee3b-ec7a-4485-a888-30225f594e88",
   "metadata": {},
   "outputs": [
    {
     "data": {
      "text/plain": [
       "{1, 3}"
      ]
     },
     "execution_count": 131,
     "metadata": {},
     "output_type": "execute_result"
    }
   ],
   "source": [
    "#intersection(): iki kümenin kesişimi\n",
    "set1.intersection(set2)"
   ]
  },
  {
   "cell_type": "code",
   "execution_count": 132,
   "id": "fbee775a-f2c8-42f3-9c18-2c42dcb5081b",
   "metadata": {},
   "outputs": [
    {
     "data": {
      "text/plain": [
       "{5}"
      ]
     },
     "execution_count": 132,
     "metadata": {},
     "output_type": "execute_result"
    }
   ],
   "source": [
    "set1 -set2"
   ]
  },
  {
   "cell_type": "code",
   "execution_count": 133,
   "id": "a8705c85-080f-42b0-a581-c030ff031c63",
   "metadata": {},
   "outputs": [
    {
     "data": {
      "text/plain": [
       "{2}"
      ]
     },
     "execution_count": 133,
     "metadata": {},
     "output_type": "execute_result"
    }
   ],
   "source": [
    "set2 - set1"
   ]
  },
  {
   "cell_type": "code",
   "execution_count": 134,
   "id": "9bb02306-6916-47aa-8cb5-87be2b9b68fc",
   "metadata": {},
   "outputs": [
    {
     "data": {
      "text/plain": [
       "{1, 2, 3, 5}"
      ]
     },
     "execution_count": 134,
     "metadata": {},
     "output_type": "execute_result"
    }
   ],
   "source": [
    "#union() iki kümenin birleşimi\n",
    "set1.union(set2)"
   ]
  },
  {
   "cell_type": "code",
   "execution_count": 135,
   "id": "be8cbe01-fb1b-4b91-b779-5ca48f4d1637",
   "metadata": {},
   "outputs": [
    {
     "data": {
      "text/plain": [
       "{1, 2, 3, 5}"
      ]
     },
     "execution_count": 135,
     "metadata": {},
     "output_type": "execute_result"
    }
   ],
   "source": [
    "set2.union(set1)"
   ]
  },
  {
   "cell_type": "code",
   "execution_count": 138,
   "id": "5072d0a2-7669-4be8-a446-6badc6065834",
   "metadata": {},
   "outputs": [],
   "source": [
    "#isdisjoint(): İki kümenin kesişimi boş mu?"
   ]
  },
  {
   "cell_type": "code",
   "execution_count": 139,
   "id": "4ccc630d-7da5-42ce-a3a9-ac4293aaa9d3",
   "metadata": {},
   "outputs": [],
   "source": [
    "set1 = set([7,8,9])\n",
    "set2 = set([5,6,7,8,9,10])"
   ]
  },
  {
   "cell_type": "code",
   "execution_count": 140,
   "id": "9e864f0f-b913-4cd0-a1a8-78e1bfc7da71",
   "metadata": {},
   "outputs": [
    {
     "data": {
      "text/plain": [
       "False"
      ]
     },
     "execution_count": 140,
     "metadata": {},
     "output_type": "execute_result"
    }
   ],
   "source": [
    "set1.isdisjoint(set2)"
   ]
  },
  {
   "cell_type": "code",
   "execution_count": 141,
   "id": "3bc20de3-e0aa-419c-9e6d-f41553c8194c",
   "metadata": {},
   "outputs": [
    {
     "data": {
      "text/plain": [
       "False"
      ]
     },
     "execution_count": 141,
     "metadata": {},
     "output_type": "execute_result"
    }
   ],
   "source": [
    "set2.isdisjoint(set1)"
   ]
  },
  {
   "cell_type": "code",
   "execution_count": 142,
   "id": "b18599f5-5d21-4946-be1d-712648e3fd80",
   "metadata": {},
   "outputs": [
    {
     "data": {
      "text/plain": [
       "True"
      ]
     },
     "execution_count": 142,
     "metadata": {},
     "output_type": "execute_result"
    }
   ],
   "source": [
    "set1.issubset(set2)"
   ]
  },
  {
   "cell_type": "code",
   "execution_count": 143,
   "id": "2b634481-bd62-43b3-af66-f7986121801d",
   "metadata": {},
   "outputs": [
    {
     "data": {
      "text/plain": [
       "False"
      ]
     },
     "execution_count": 143,
     "metadata": {},
     "output_type": "execute_result"
    }
   ],
   "source": [
    "set2.issubset(set1)"
   ]
  },
  {
   "cell_type": "code",
   "execution_count": 144,
   "id": "f8441fc0-af80-44e8-b349-d87808e3fe1c",
   "metadata": {},
   "outputs": [],
   "source": [
    "# issuperset(): Bir küme diğer kümeyi kapsıyor mu?"
   ]
  },
  {
   "cell_type": "code",
   "execution_count": 146,
   "id": "c9d562f1-1ac2-4f59-b121-09bdfa5adf1e",
   "metadata": {},
   "outputs": [
    {
     "data": {
      "text/plain": [
       "True"
      ]
     },
     "execution_count": 146,
     "metadata": {},
     "output_type": "execute_result"
    }
   ],
   "source": [
    "set2.issuperset(set1)"
   ]
  },
  {
   "cell_type": "code",
   "execution_count": 147,
   "id": "849e1f11-7623-4020-b078-52851f5b7a6d",
   "metadata": {},
   "outputs": [
    {
     "data": {
      "text/plain": [
       "False"
      ]
     },
     "execution_count": 147,
     "metadata": {},
     "output_type": "execute_result"
    }
   ],
   "source": [
    "set1.issuperset(set2)"
   ]
  },
  {
   "cell_type": "code",
   "execution_count": null,
   "id": "b2666a6a-a8ca-437d-9654-88dc31d9c699",
   "metadata": {},
   "outputs": [],
   "source": []
  }
 ],
 "metadata": {
  "kernelspec": {
   "display_name": "Python 3 (ipykernel)",
   "language": "python",
   "name": "python3"
  },
  "language_info": {
   "codemirror_mode": {
    "name": "ipython",
    "version": 3
   },
   "file_extension": ".py",
   "mimetype": "text/x-python",
   "name": "python",
   "nbconvert_exporter": "python",
   "pygments_lexer": "ipython3",
   "version": "3.9.12"
  }
 },
 "nbformat": 4,
 "nbformat_minor": 5
}
