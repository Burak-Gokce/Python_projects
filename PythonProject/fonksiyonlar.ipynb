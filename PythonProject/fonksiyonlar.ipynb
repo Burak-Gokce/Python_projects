{
 "cells": [
  {
   "cell_type": "markdown",
   "id": "8a71e924-b7d5-4ff4-ae18-baf85c4b40dc",
   "metadata": {},
   "source": [
    "### -Fonksiyonlar(Functions)\n",
    "### -Koşullar(Conditions)\n",
    "### -Döngüler(Loops)\n",
    "### -Comprehesions"
   ]
  },
  {
   "cell_type": "markdown",
   "id": "208757ff-87ac-478c-bf28-c70712360f32",
   "metadata": {},
   "source": [
    "# Fonksiyonlar"
   ]
  },
  {
   "cell_type": "code",
   "execution_count": 1,
   "id": "91b8e82b-890a-4d27-bd29-0ab3dfc31e45",
   "metadata": {},
   "outputs": [],
   "source": [
    "def calculate(x):\n",
    "    print(x*2)"
   ]
  },
  {
   "cell_type": "code",
   "execution_count": 2,
   "id": "a17eab51-f5f2-45e6-b448-1bbe7cabbf0a",
   "metadata": {},
   "outputs": [
    {
     "name": "stdout",
     "output_type": "stream",
     "text": [
      "6\n"
     ]
    }
   ],
   "source": [
    "calculate(3)"
   ]
  },
  {
   "cell_type": "code",
   "execution_count": 3,
   "id": "a5bc3412-b9a7-497f-a9db-059f197c85fa",
   "metadata": {},
   "outputs": [
    {
     "name": "stdout",
     "output_type": "stream",
     "text": [
      "18\n"
     ]
    }
   ],
   "source": [
    "calculate(9)"
   ]
  },
  {
   "cell_type": "code",
   "execution_count": 4,
   "id": "072473b1-c4aa-47f8-ade2-10ecd0691a21",
   "metadata": {},
   "outputs": [],
   "source": [
    "#iki argümanlı/parametreli bir fonksiyon tanımlayalım."
   ]
  },
  {
   "cell_type": "code",
   "execution_count": 5,
   "id": "414befb1-2abf-4f55-8838-41fc0991ca45",
   "metadata": {},
   "outputs": [],
   "source": [
    "def summer(arg1, arg2):\n",
    "    print(arg1 + arg2)"
   ]
  },
  {
   "cell_type": "code",
   "execution_count": 7,
   "id": "93b6c0c4-ee63-4b15-b07b-5421cd1b139a",
   "metadata": {},
   "outputs": [
    {
     "name": "stdout",
     "output_type": "stream",
     "text": [
      "43\n"
     ]
    }
   ],
   "source": [
    "summer(15, 28)"
   ]
  },
  {
   "cell_type": "markdown",
   "id": "08de503c-2468-40e7-8488-dfc82f8cf831",
   "metadata": {},
   "source": [
    "### Docstring"
   ]
  },
  {
   "cell_type": "code",
   "execution_count": 8,
   "id": "c16f4a80-a53d-40ab-ad72-7b4b640fbb95",
   "metadata": {},
   "outputs": [],
   "source": [
    "def summer(arg1, arg2):\n",
    "    \"\"\"\n",
    "    Sum of two numbers\n",
    "    Parameters/Args\n",
    "    ---------\n",
    "    arg1: int, float\n",
    "    \n",
    "    arg2: int, float\n",
    "    \n",
    "    Returns:\n",
    "    \n",
    "    \"\"\"\n",
    "    print(arg1 + arg2)"
   ]
  },
  {
   "cell_type": "code",
   "execution_count": 9,
   "id": "3152c7ec-8524-420c-9170-49587d7df0ab",
   "metadata": {},
   "outputs": [
    {
     "data": {
      "text/plain": [
       "\u001b[1;31mSignature:\u001b[0m \u001b[0msummer\u001b[0m\u001b[1;33m(\u001b[0m\u001b[0marg1\u001b[0m\u001b[1;33m,\u001b[0m \u001b[0marg2\u001b[0m\u001b[1;33m)\u001b[0m\u001b[1;33m\u001b[0m\u001b[1;33m\u001b[0m\u001b[0m\n",
       "\u001b[1;31mDocstring:\u001b[0m\n",
       "Sum of two numbers\n",
       "Parameters/Args\n",
       "---------\n",
       "arg1: int, float\n",
       "\n",
       "arg2: int, float\n",
       "\n",
       "Returns:\n",
       "\u001b[1;31mFile:\u001b[0m      c:\\users\\burak\\appdata\\local\\temp\\ipykernel_3848\\3863847613.py\n",
       "\u001b[1;31mType:\u001b[0m      function\n"
      ]
     },
     "metadata": {},
     "output_type": "display_data"
    }
   ],
   "source": [
    "?summer"
   ]
  },
  {
   "cell_type": "code",
   "execution_count": 10,
   "id": "e412c5ec-60d4-4292-9db9-2939672af688",
   "metadata": {},
   "outputs": [
    {
     "name": "stdout",
     "output_type": "stream",
     "text": [
      "14\n"
     ]
    }
   ],
   "source": [
    "summer(5,9)"
   ]
  },
  {
   "cell_type": "code",
   "execution_count": 11,
   "id": "7d0aa01c-2265-49e3-a8dd-debda452c0a8",
   "metadata": {},
   "outputs": [],
   "source": [
    "# Fonksiyonların Statement/Body Bölümü"
   ]
  },
  {
   "cell_type": "code",
   "execution_count": 12,
   "id": "81ab2f0a-9f7f-4086-96ca-07451435c1f8",
   "metadata": {},
   "outputs": [],
   "source": [
    "# def function_name(parameters/arguments):\n",
    "#   statements(function body)"
   ]
  },
  {
   "cell_type": "code",
   "execution_count": 13,
   "id": "c51d725d-6526-402a-86d5-335fa2dcb82e",
   "metadata": {},
   "outputs": [],
   "source": [
    "def say_hi():\n",
    "    print(\"Merhaba\")\n",
    "    print(\"Hi\")\n",
    "    print(\"Hello\") "
   ]
  },
  {
   "cell_type": "code",
   "execution_count": 14,
   "id": "b3b67101-45bc-4f35-85fc-282b4e1c3d0d",
   "metadata": {},
   "outputs": [
    {
     "name": "stdout",
     "output_type": "stream",
     "text": [
      "Merhaba\n",
      "Hi\n",
      "Hello\n"
     ]
    }
   ],
   "source": [
    "say_hi()"
   ]
  },
  {
   "cell_type": "code",
   "execution_count": 15,
   "id": "63ab822a-b0d5-4131-9d78-e3624cac38d6",
   "metadata": {},
   "outputs": [],
   "source": [
    "def say_hi(string):\n",
    "    print(string)\n",
    "    print(\"Hi\")\n",
    "    print(\"Hello\") "
   ]
  },
  {
   "cell_type": "code",
   "execution_count": 16,
   "id": "5a90c31d-6452-435e-98d7-346cf8447862",
   "metadata": {},
   "outputs": [
    {
     "name": "stdout",
     "output_type": "stream",
     "text": [
      "mert\n",
      "Hi\n",
      "Hello\n"
     ]
    }
   ],
   "source": [
    "say_hi(\"mert\")"
   ]
  },
  {
   "cell_type": "code",
   "execution_count": 17,
   "id": "1b7bc5b4-3b9f-4e2e-b31e-34ad8e6849f5",
   "metadata": {},
   "outputs": [],
   "source": [
    "def multiplication(a, b):\n",
    "    c = a * b\n",
    "    print(c)"
   ]
  },
  {
   "cell_type": "code",
   "execution_count": 18,
   "id": "575c4a0a-5fac-4a86-8a14-4d3e3bbdde70",
   "metadata": {},
   "outputs": [
    {
     "name": "stdout",
     "output_type": "stream",
     "text": [
      "200\n"
     ]
    }
   ],
   "source": [
    "multiplication(10,20)"
   ]
  },
  {
   "cell_type": "code",
   "execution_count": 19,
   "id": "3be5bdc8-0fd2-45d2-8c92-04dfe6d4ce52",
   "metadata": {},
   "outputs": [],
   "source": [
    "#girilen değerleri bir liste içinde saklayacak fonksiyon yazalım."
   ]
  },
  {
   "cell_type": "code",
   "execution_count": 20,
   "id": "5933d9c4-40cb-46f5-a22a-037c85727f22",
   "metadata": {},
   "outputs": [],
   "source": [
    "list_store = []"
   ]
  },
  {
   "cell_type": "code",
   "execution_count": 21,
   "id": "04e844b0-4f0b-4f20-b2fc-75fba8315a98",
   "metadata": {},
   "outputs": [],
   "source": [
    "def add_element(a, b):\n",
    "    c = a * b\n",
    "    list_store.append(c)\n",
    "    print(list_store)"
   ]
  },
  {
   "cell_type": "code",
   "execution_count": 22,
   "id": "7ae00094-e10d-487d-aa69-fafd477b85b2",
   "metadata": {},
   "outputs": [
    {
     "name": "stdout",
     "output_type": "stream",
     "text": [
      "[21]\n"
     ]
    }
   ],
   "source": [
    "add_element(7, 3)"
   ]
  },
  {
   "cell_type": "code",
   "execution_count": 23,
   "id": "24e2f9ee-085e-4ead-921b-a6bc588c21cb",
   "metadata": {},
   "outputs": [
    {
     "name": "stdout",
     "output_type": "stream",
     "text": [
      "[21, 11040]\n"
     ]
    }
   ],
   "source": [
    "add_element(92, 120)"
   ]
  },
  {
   "cell_type": "code",
   "execution_count": 24,
   "id": "dd28d3aa-75dd-4917-93a9-42d6bcfcb605",
   "metadata": {},
   "outputs": [
    {
     "name": "stdout",
     "output_type": "stream",
     "text": [
      "[21, 11040, 9882]\n"
     ]
    }
   ],
   "source": [
    "add_element(81, 122)"
   ]
  },
  {
   "cell_type": "markdown",
   "id": "9d6c1bd0-67ef-4056-a5d5-17f735fbf3ec",
   "metadata": {},
   "source": [
    "### Ön Tanımlı Argümanlar/Parametreler (Default Parameters/Arguments)"
   ]
  },
  {
   "cell_type": "code",
   "execution_count": 25,
   "id": "463072b2-34ae-4b08-b633-4292fafc205c",
   "metadata": {},
   "outputs": [],
   "source": [
    "def divide(a, b):\n",
    "    print(a / b)"
   ]
  },
  {
   "cell_type": "code",
   "execution_count": 26,
   "id": "e45ecbae-6d4e-4513-8d33-6d6a4e2588d3",
   "metadata": {},
   "outputs": [
    {
     "name": "stdout",
     "output_type": "stream",
     "text": [
      "0.5\n"
     ]
    }
   ],
   "source": [
    "divide(1,2)"
   ]
  },
  {
   "cell_type": "code",
   "execution_count": 27,
   "id": "a252f531-fb24-4b80-9532-388e9acfdf33",
   "metadata": {},
   "outputs": [],
   "source": [
    "def divide(a, b=1):\n",
    "    print(a / b)"
   ]
  },
  {
   "cell_type": "code",
   "execution_count": 28,
   "id": "c3b9b682-2be3-4f24-aad6-c049df103d76",
   "metadata": {},
   "outputs": [
    {
     "name": "stdout",
     "output_type": "stream",
     "text": [
      "1.0\n"
     ]
    }
   ],
   "source": [
    "divide(1)"
   ]
  },
  {
   "cell_type": "code",
   "execution_count": 29,
   "id": "d58700f4-fcec-43af-8bdd-e6fbb2ff49d9",
   "metadata": {},
   "outputs": [
    {
     "data": {
      "text/plain": [
       "\u001b[1;31mDocstring:\u001b[0m\n",
       "print(value, ..., sep=' ', end='\\n', file=sys.stdout, flush=False)\n",
       "\n",
       "Prints the values to a stream, or to sys.stdout by default.\n",
       "Optional keyword arguments:\n",
       "file:  a file-like object (stream); defaults to the current sys.stdout.\n",
       "sep:   string inserted between values, default a space.\n",
       "end:   string appended after the last value, default a newline.\n",
       "flush: whether to forcibly flush the stream.\n",
       "\u001b[1;31mType:\u001b[0m      builtin_function_or_method\n"
      ]
     },
     "metadata": {},
     "output_type": "display_data"
    }
   ],
   "source": [
    "?print"
   ]
  },
  {
   "cell_type": "code",
   "execution_count": 30,
   "id": "963497a0-e42c-4220-a99e-8856639c7a62",
   "metadata": {},
   "outputs": [],
   "source": [
    "def calculate(varm, moisture, charge):\n",
    "    print((varm + moisture) / charge)"
   ]
  },
  {
   "cell_type": "code",
   "execution_count": 31,
   "id": "c8b63f04-bbe8-49dd-b6bc-e7888d354b62",
   "metadata": {},
   "outputs": [
    {
     "name": "stdout",
     "output_type": "stream",
     "text": [
      "15.0\n"
     ]
    }
   ],
   "source": [
    "calculate(100,200,20)"
   ]
  },
  {
   "cell_type": "markdown",
   "id": "000c88a5-1f49-4664-9f2b-79e0b5f48c8f",
   "metadata": {},
   "source": [
    "## Return"
   ]
  },
  {
   "cell_type": "code",
   "execution_count": 32,
   "id": "acc07c5f-404a-4e3f-823d-eae8d29d0442",
   "metadata": {},
   "outputs": [],
   "source": [
    "# Return: Fonksiyon Çıktılarını Girdi Olarak Kullanmak"
   ]
  },
  {
   "cell_type": "code",
   "execution_count": 34,
   "id": "d004dfcd-4159-49af-8cfb-fed6b2fb5455",
   "metadata": {},
   "outputs": [
    {
     "data": {
      "text/plain": [
       "14.102564102564104"
      ]
     },
     "execution_count": 34,
     "metadata": {},
     "output_type": "execute_result"
    }
   ],
   "source": [
    "def calculate(varm, moisture, charge):\n",
    "   return (varm + moisture) / charge\n",
    "calculate(98,12,78) * 10\n",
    "#burada return ifadesini kullandığımız için calculate fonksiyonunu 10 ile çarpabildik."
   ]
  },
  {
   "cell_type": "code",
   "execution_count": 35,
   "id": "709c0d0a-ac22-43e1-b467-bd0aeaf5e153",
   "metadata": {},
   "outputs": [],
   "source": [
    "a = calculate(98,12,78)"
   ]
  },
  {
   "cell_type": "code",
   "execution_count": 36,
   "id": "71684bb7-3029-4def-9514-5c7b4fd9ebbe",
   "metadata": {},
   "outputs": [],
   "source": [
    "def calculate(varm, moisture, charge):\n",
    "    varm = varm * 2\n",
    "    moisture = moisture * 2\n",
    "    charge = charge * 2\n",
    "    output = (varm + moisture) / charge\n",
    "    return varm, moisture, charge, output"
   ]
  },
  {
   "cell_type": "code",
   "execution_count": 37,
   "id": "a5f24e94-e12c-4313-9435-754809a6000a",
   "metadata": {},
   "outputs": [
    {
     "data": {
      "text/plain": [
       "(196, 24, 156, 1.4102564102564104)"
      ]
     },
     "execution_count": 37,
     "metadata": {},
     "output_type": "execute_result"
    }
   ],
   "source": [
    "calculate(98,12,78)"
   ]
  },
  {
   "cell_type": "code",
   "execution_count": 38,
   "id": "28ab2049-a11d-4601-b285-c96846fa1065",
   "metadata": {},
   "outputs": [
    {
     "data": {
      "text/plain": [
       "tuple"
      ]
     },
     "execution_count": 38,
     "metadata": {},
     "output_type": "execute_result"
    }
   ],
   "source": [
    "type(calculate(98,12,78))"
   ]
  },
  {
   "cell_type": "code",
   "execution_count": 39,
   "id": "03bcb6e2-977d-4738-9785-db9608c4c182",
   "metadata": {},
   "outputs": [],
   "source": [
    "varm, moisture, charge, output = calculate(98,12,78)"
   ]
  },
  {
   "cell_type": "code",
   "execution_count": 40,
   "id": "272cf149-3f31-4ab2-a5c0-ff45adf733b0",
   "metadata": {},
   "outputs": [
    {
     "data": {
      "text/plain": [
       "196"
      ]
     },
     "execution_count": 40,
     "metadata": {},
     "output_type": "execute_result"
    }
   ],
   "source": [
    "varm"
   ]
  },
  {
   "cell_type": "code",
   "execution_count": 41,
   "id": "b95fb93d-4cd6-464a-bfdd-2ce4b8142aba",
   "metadata": {},
   "outputs": [
    {
     "data": {
      "text/plain": [
       "24"
      ]
     },
     "execution_count": 41,
     "metadata": {},
     "output_type": "execute_result"
    }
   ],
   "source": [
    "moisture"
   ]
  },
  {
   "cell_type": "code",
   "execution_count": 42,
   "id": "91629037-0b8b-426b-bd57-ed92047312f7",
   "metadata": {},
   "outputs": [
    {
     "data": {
      "text/plain": [
       "156"
      ]
     },
     "execution_count": 42,
     "metadata": {},
     "output_type": "execute_result"
    }
   ],
   "source": [
    "charge"
   ]
  },
  {
   "cell_type": "code",
   "execution_count": 43,
   "id": "b0c18e95-ef92-46a1-a53b-98212d1b6a24",
   "metadata": {},
   "outputs": [
    {
     "data": {
      "text/plain": [
       "1.4102564102564104"
      ]
     },
     "execution_count": 43,
     "metadata": {},
     "output_type": "execute_result"
    }
   ],
   "source": [
    "output"
   ]
  },
  {
   "cell_type": "markdown",
   "id": "f9617f84-9eb8-4fac-9995-8a79c5b3bfd0",
   "metadata": {},
   "source": [
    "## Fonksiyon İçerisinden Fonksiyon Çağırmak"
   ]
  },
  {
   "cell_type": "code",
   "execution_count": 46,
   "id": "56fde923-fd63-434a-a8c5-3eb7679b2e22",
   "metadata": {},
   "outputs": [
    {
     "data": {
      "text/plain": [
       "80"
      ]
     },
     "execution_count": 46,
     "metadata": {},
     "output_type": "execute_result"
    }
   ],
   "source": [
    "def calculate(varm, moisture, charge):\n",
    "   return int((varm + moisture) / charge)\n",
    "calculate(90,12,12) * 10"
   ]
  },
  {
   "cell_type": "code",
   "execution_count": 47,
   "id": "b369a41a-2fdc-47cf-9d7d-180323abef75",
   "metadata": {},
   "outputs": [],
   "source": [
    "def standardization(a, p):\n",
    "    return a * 10/100 * p * p"
   ]
  },
  {
   "cell_type": "code",
   "execution_count": 50,
   "id": "4b38b2d8-a5be-4afe-afbd-9683f8e68671",
   "metadata": {},
   "outputs": [
    {
     "data": {
      "text/plain": [
       "40.5"
      ]
     },
     "execution_count": 50,
     "metadata": {},
     "output_type": "execute_result"
    }
   ],
   "source": [
    "standardization(45, 3)"
   ]
  },
  {
   "cell_type": "code",
   "execution_count": 57,
   "id": "19c2d45c-6fa1-4eb3-8768-47d37e98f798",
   "metadata": {},
   "outputs": [],
   "source": [
    "def all_calculation(varm, moisture, charge, p):\n",
    "    a = calculate(varm, moisture, charge)\n",
    "    b = standardization(a, p)\n",
    "    print(b * 10)"
   ]
  },
  {
   "cell_type": "code",
   "execution_count": 58,
   "id": "5ab52fa8-ceec-49ab-b5fe-aa9d33006d47",
   "metadata": {},
   "outputs": [
    {
     "name": "stdout",
     "output_type": "stream",
     "text": [
      "100.0\n"
     ]
    }
   ],
   "source": [
    "all_calculation(3, 5, 7, 10)"
   ]
  },
  {
   "cell_type": "code",
   "execution_count": 59,
   "id": "f5fbccf6-c456-46b4-8b38-2697f3ea0e3b",
   "metadata": {},
   "outputs": [
    {
     "name": "stdout",
     "output_type": "stream",
     "text": [
      "0.0\n"
     ]
    }
   ],
   "source": [
    "all_calculation(1, 3, 5, 12)"
   ]
  },
  {
   "cell_type": "markdown",
   "id": "a8006822-af08-43e1-82ca-3cd78ddd2076",
   "metadata": {},
   "source": [
    "## Koşullar (Conditions)"
   ]
  },
  {
   "cell_type": "code",
   "execution_count": 60,
   "id": "de831396-e2ae-410d-ad60-e8661c16c2ac",
   "metadata": {},
   "outputs": [
    {
     "name": "stdout",
     "output_type": "stream",
     "text": [
      "True\n"
     ]
    }
   ],
   "source": [
    "if 1 == 1:\n",
    "    print(\"True\")"
   ]
  },
  {
   "cell_type": "code",
   "execution_count": 62,
   "id": "36950b13-c1ab-4b33-b77e-fe4ed4d662f5",
   "metadata": {},
   "outputs": [
    {
     "name": "stdout",
     "output_type": "stream",
     "text": [
      "False\n"
     ]
    }
   ],
   "source": [
    "if 1 == 2:\n",
    "    print(\"True\")\n",
    "else:\n",
    "    print(\"False\")"
   ]
  },
  {
   "cell_type": "code",
   "execution_count": 63,
   "id": "e9d9da9c-a5fe-4caf-975c-8fb362e64e24",
   "metadata": {},
   "outputs": [],
   "source": [
    "number = 12"
   ]
  },
  {
   "cell_type": "code",
   "execution_count": 64,
   "id": "eec42b76-7cc1-4869-83c6-583339845ebd",
   "metadata": {},
   "outputs": [],
   "source": [
    "if number == 10:\n",
    "    print(\"number is 10\")"
   ]
  },
  {
   "cell_type": "code",
   "execution_count": 65,
   "id": "a169696c-743c-460c-8edb-7ad0c11b414a",
   "metadata": {},
   "outputs": [],
   "source": [
    "number = 10"
   ]
  },
  {
   "cell_type": "code",
   "execution_count": 66,
   "id": "ab1077b7-7489-4040-880e-744386412d5c",
   "metadata": {},
   "outputs": [
    {
     "name": "stdout",
     "output_type": "stream",
     "text": [
      "number is 10\n"
     ]
    }
   ],
   "source": [
    "if number == 10:\n",
    "    print(\"number is 10\")"
   ]
  },
  {
   "cell_type": "code",
   "execution_count": 67,
   "id": "fe25ebf5-913d-463f-a431-f81427f4f89b",
   "metadata": {},
   "outputs": [],
   "source": [
    "def number_check(number):\n",
    "    if number == 10:\n",
    "        print(\"number is 10\")"
   ]
  },
  {
   "cell_type": "code",
   "execution_count": 68,
   "id": "2fbf3d58-12d5-4c27-95a1-5659b51a2f2c",
   "metadata": {},
   "outputs": [
    {
     "name": "stdout",
     "output_type": "stream",
     "text": [
      "number is 10\n"
     ]
    }
   ],
   "source": [
    "number_check(10)"
   ]
  },
  {
   "cell_type": "code",
   "execution_count": 69,
   "id": "35fab33e-2e8e-4c86-96d2-8069e7a0d9e3",
   "metadata": {},
   "outputs": [],
   "source": [
    "number_check(12)"
   ]
  },
  {
   "cell_type": "code",
   "execution_count": 70,
   "id": "f62021cf-41aa-4410-ba77-327864d79dba",
   "metadata": {},
   "outputs": [],
   "source": [
    "def number_check(number):\n",
    "    if number == 10:\n",
    "        print(\"number is 10\")\n",
    "    else:\n",
    "        print(\"yanlış numara\")"
   ]
  },
  {
   "cell_type": "code",
   "execution_count": 71,
   "id": "13d4e8c9-a0e0-4eda-a153-9736abba7e88",
   "metadata": {},
   "outputs": [
    {
     "name": "stdout",
     "output_type": "stream",
     "text": [
      "yanlış numara\n"
     ]
    }
   ],
   "source": [
    "number_check(12)"
   ]
  },
  {
   "cell_type": "code",
   "execution_count": 72,
   "id": "585f73c1-1b26-44af-9aa7-6619356ff78b",
   "metadata": {},
   "outputs": [
    {
     "name": "stdout",
     "output_type": "stream",
     "text": [
      "number is 10\n"
     ]
    }
   ],
   "source": [
    "number_check(10)"
   ]
  },
  {
   "cell_type": "code",
   "execution_count": 73,
   "id": "dba09bea-0ed6-4bbf-ac18-b684e40b052b",
   "metadata": {},
   "outputs": [],
   "source": [
    "def number_check(number):\n",
    "    if number > 10:\n",
    "        print(\"greater than 10\")\n",
    "    elif number < 10:\n",
    "        print(\"less than 10\")\n",
    "    else:\n",
    "        print(\"equal to 10\")\n",
    "    "
   ]
  },
  {
   "cell_type": "code",
   "execution_count": 74,
   "id": "dceace78-766d-44a0-bc18-c1dde73a3402",
   "metadata": {},
   "outputs": [
    {
     "name": "stdout",
     "output_type": "stream",
     "text": [
      "equal to 10\n"
     ]
    }
   ],
   "source": [
    "number_check(10)"
   ]
  },
  {
   "cell_type": "code",
   "execution_count": 75,
   "id": "f032fd30-2883-4a85-b496-d206705587aa",
   "metadata": {},
   "outputs": [
    {
     "name": "stdout",
     "output_type": "stream",
     "text": [
      "less than 10\n"
     ]
    }
   ],
   "source": [
    "number_check(6)"
   ]
  },
  {
   "cell_type": "code",
   "execution_count": 76,
   "id": "b887a231-4f23-4460-9082-482b95e0f649",
   "metadata": {},
   "outputs": [
    {
     "name": "stdout",
     "output_type": "stream",
     "text": [
      "greater than 10\n"
     ]
    }
   ],
   "source": [
    "number_check(12)"
   ]
  },
  {
   "cell_type": "markdown",
   "id": "e01e9e95-cfbc-4fd5-b7dd-c7796b49a9df",
   "metadata": {},
   "source": [
    "## Döngüler (Loops)"
   ]
  },
  {
   "cell_type": "code",
   "execution_count": 77,
   "id": "86a3f70e-cef5-4add-b35e-90cf575ba47c",
   "metadata": {},
   "outputs": [],
   "source": [
    "students = [\"John\", \"Mark\", \"Venessa\", \"Mariam\"]"
   ]
  },
  {
   "cell_type": "code",
   "execution_count": 78,
   "id": "1a5be1c4-7698-4602-8aa6-cdf015390b49",
   "metadata": {},
   "outputs": [
    {
     "name": "stdout",
     "output_type": "stream",
     "text": [
      "John\n",
      "Mark\n",
      "Venessa\n",
      "Mariam\n"
     ]
    }
   ],
   "source": [
    "for i in students:\n",
    "    print(i)"
   ]
  },
  {
   "cell_type": "code",
   "execution_count": 82,
   "id": "d7c928fa-3823-4408-80ce-0c4ba0e536ae",
   "metadata": {},
   "outputs": [
    {
     "name": "stdout",
     "output_type": "stream",
     "text": [
      "JOHN\n",
      "MARK\n",
      "VENESSA\n",
      "MARIAM\n"
     ]
    }
   ],
   "source": [
    "for i in students:\n",
    "    print(i.upper())"
   ]
  },
  {
   "cell_type": "code",
   "execution_count": 83,
   "id": "f8930857-e563-43e1-a877-e1a6c7564d3c",
   "metadata": {},
   "outputs": [],
   "source": [
    "maaslar = [1000,2000,3000,4000,5000]"
   ]
  },
  {
   "cell_type": "code",
   "execution_count": 84,
   "id": "60e72b08-5694-473a-b95b-87a88ebd98dc",
   "metadata": {},
   "outputs": [
    {
     "name": "stdout",
     "output_type": "stream",
     "text": [
      "1000\n",
      "2000\n",
      "3000\n",
      "4000\n",
      "5000\n"
     ]
    }
   ],
   "source": [
    "for maas in maaslar:\n",
    "    print(maas)"
   ]
  },
  {
   "cell_type": "code",
   "execution_count": 86,
   "id": "592d7efa-fb6e-4651-a95d-8f2a904dbf21",
   "metadata": {},
   "outputs": [
    {
     "name": "stdout",
     "output_type": "stream",
     "text": [
      "1200.0\n",
      "2400.0\n",
      "3600.0\n",
      "4800.0\n",
      "6000.0\n"
     ]
    }
   ],
   "source": [
    "for maas in maaslar:\n",
    "    print(maas*0.20 + maas)"
   ]
  },
  {
   "cell_type": "code",
   "execution_count": 91,
   "id": "e807b7d3-e585-47c2-a17c-a62501d1e955",
   "metadata": {},
   "outputs": [],
   "source": [
    "def new_salary(maas, rate):\n",
    "    return int((maas*rate)/100 + maas)\n",
    "    "
   ]
  },
  {
   "cell_type": "code",
   "execution_count": 94,
   "id": "e5d0317b-6bb7-4b17-9f67-60347411eb51",
   "metadata": {},
   "outputs": [
    {
     "data": {
      "text/plain": [
       "1950"
      ]
     },
     "execution_count": 94,
     "metadata": {},
     "output_type": "execute_result"
    }
   ],
   "source": [
    "new_salary(1500,30)"
   ]
  },
  {
   "cell_type": "code",
   "execution_count": 95,
   "id": "ade1993a-de0c-4612-abe8-3b1cac9a8a12",
   "metadata": {},
   "outputs": [
    {
     "data": {
      "text/plain": [
       "2640"
      ]
     },
     "execution_count": 95,
     "metadata": {},
     "output_type": "execute_result"
    }
   ],
   "source": [
    "new_salary(2400,10)"
   ]
  },
  {
   "cell_type": "code",
   "execution_count": 99,
   "id": "71ddddc8-b058-4e75-8969-5fb469b33d2f",
   "metadata": {},
   "outputs": [
    {
     "name": "stdout",
     "output_type": "stream",
     "text": [
      "1100\n",
      "2200\n",
      "3300\n",
      "4400\n",
      "5500\n"
     ]
    }
   ],
   "source": [
    "for maas in maaslar:\n",
    "    print(new_salary(maas, 10))\n",
    "# fonksiyonu for döngüsü içinde yazıyoruz ve bütün maaşları gezmiş oluyoruz."
   ]
  },
  {
   "cell_type": "code",
   "execution_count": 100,
   "id": "21c183c6-548c-46e8-96b0-004bf90cb8f3",
   "metadata": {},
   "outputs": [],
   "source": [
    "maaslar2 = [10700,25000,30400,40300,50200]"
   ]
  },
  {
   "cell_type": "code",
   "execution_count": 102,
   "id": "e7ae2c9b-d13e-4647-b93d-39c25c20d5bf",
   "metadata": {},
   "outputs": [
    {
     "name": "stdout",
     "output_type": "stream",
     "text": [
      "12626\n",
      "29500\n",
      "35872\n",
      "47554\n",
      "59236\n"
     ]
    }
   ],
   "source": [
    "for maas in maaslar2:\n",
    "    print(new_salary(maas, 18))"
   ]
  },
  {
   "cell_type": "code",
   "execution_count": 104,
   "id": "c445889f-cc05-45d5-8602-4d8870a56393",
   "metadata": {},
   "outputs": [
    {
     "name": "stdout",
     "output_type": "stream",
     "text": [
      "1300\n",
      "2600\n",
      "3540\n",
      "4720\n",
      "5900\n"
     ]
    }
   ],
   "source": [
    "for maas in maaslar:\n",
    "    if maas >= 3000:\n",
    "        print(new_salary(maas, 18))\n",
    "    else:\n",
    "        print(new_salary(maas, 30))"
   ]
  },
  {
   "cell_type": "markdown",
   "id": "5f39004c-d57a-4b6a-be71-fce0a40fd603",
   "metadata": {},
   "source": [
    "## Uygulama - Mülakat Sorusu"
   ]
  },
  {
   "cell_type": "code",
   "execution_count": 105,
   "id": "4858ce05-508e-4bfb-a455-227ccec3a44b",
   "metadata": {},
   "outputs": [],
   "source": [
    "# Amaç: Aşağıdaki şekilde string değiştiren fonksiyon yazmak istiyoruz.\n",
    "\n",
    "# before: \"hi my name is john and i am learning python\"\n",
    "# after: \"Hi mY NaMe iS JoHn aNd i aM LeArNiNg pYtHoN\""
   ]
  },
  {
   "cell_type": "code",
   "execution_count": 114,
   "id": "d15af53f-968f-4991-beaa-1191cbb9cb2d",
   "metadata": {},
   "outputs": [
    {
     "data": {
      "text/plain": [
       "range(0, 5)"
      ]
     },
     "execution_count": 114,
     "metadata": {},
     "output_type": "execute_result"
    }
   ],
   "source": [
    "range(len(\"miuul\"))"
   ]
  },
  {
   "cell_type": "code",
   "execution_count": 115,
   "id": "cb058345-2a68-4a90-9057-5c30f7391d2a",
   "metadata": {},
   "outputs": [
    {
     "name": "stdout",
     "output_type": "stream",
     "text": [
      "0\n",
      "1\n",
      "2\n",
      "3\n",
      "4\n"
     ]
    }
   ],
   "source": [
    "for i in range(len(\"miuul\")):\n",
    "    print(i)"
   ]
  },
  {
   "cell_type": "code",
   "execution_count": 119,
   "id": "ba83f1a0-2172-4f66-8378-02fd7a189b3e",
   "metadata": {},
   "outputs": [],
   "source": [
    "def alternating(string):\n",
    "    new_string = \"\"\n",
    "    #girilen string'in index'lerinde gez.\n",
    "    for string_index in range(len(string)):\n",
    "        #index çift ise büyük harfe çevir.\n",
    "        if string_index %2 == 0:\n",
    "            new_string += string[string_index].upper()\n",
    "        #index tek ise küçük harfe çevir.\n",
    "        else:\n",
    "            new_string += string[string_index].lower()\n",
    "    print(new_string)"
   ]
  },
  {
   "cell_type": "code",
   "execution_count": 120,
   "id": "5bf7a99e-c1dd-4150-8965-d231bc002dcf",
   "metadata": {},
   "outputs": [
    {
     "name": "stdout",
     "output_type": "stream",
     "text": [
      "MiUuL\n"
     ]
    }
   ],
   "source": [
    "alternating(\"miuul\")"
   ]
  },
  {
   "cell_type": "code",
   "execution_count": 121,
   "id": "1de0937a-7da6-4ab8-9a94-8fe72ed86c19",
   "metadata": {},
   "outputs": [
    {
     "name": "stdout",
     "output_type": "stream",
     "text": [
      "Hi mY NaMe iS JoHn aNd i aM LeArNiNg pYtHoN\n"
     ]
    }
   ],
   "source": [
    "alternating(\"hi my name is john and i am learning python\")"
   ]
  },
  {
   "cell_type": "markdown",
   "id": "b5f7797e-8e99-48b0-bd5d-69974af61233",
   "metadata": {},
   "source": [
    "## Break & Continue & While"
   ]
  },
  {
   "cell_type": "code",
   "execution_count": 122,
   "id": "a459a36e-24bd-437d-bf54-c56509dffbf9",
   "metadata": {},
   "outputs": [],
   "source": [
    "maaslar = [1000,2000,3000,4000,5000]"
   ]
  },
  {
   "cell_type": "code",
   "execution_count": 123,
   "id": "3ff1ee93-ae6d-4d0e-ac8a-79c76417ed3f",
   "metadata": {},
   "outputs": [
    {
     "name": "stdout",
     "output_type": "stream",
     "text": [
      "1000\n",
      "2000\n"
     ]
    }
   ],
   "source": [
    "for maas in maaslar:\n",
    "    if maas == 3000:\n",
    "        break\n",
    "    print(maas)"
   ]
  },
  {
   "cell_type": "code",
   "execution_count": 125,
   "id": "8a5e997f-a195-4df6-b2f0-ea3315907ca9",
   "metadata": {},
   "outputs": [
    {
     "name": "stdout",
     "output_type": "stream",
     "text": [
      "1000\n",
      "2000\n",
      "4000\n",
      "5000\n"
     ]
    }
   ],
   "source": [
    "for maas in maaslar:\n",
    "    if maas == 3000:\n",
    "        continue\n",
    "    print(maas)"
   ]
  },
  {
   "cell_type": "code",
   "execution_count": 126,
   "id": "e5f6e7ab-00b6-44e9-bde5-d114d7fa0862",
   "metadata": {},
   "outputs": [],
   "source": [
    "#While"
   ]
  },
  {
   "cell_type": "code",
   "execution_count": 127,
   "id": "6b9a7b99-2fc3-4f8c-85d5-276cd3578efa",
   "metadata": {},
   "outputs": [
    {
     "name": "stdout",
     "output_type": "stream",
     "text": [
      "1\n",
      "2\n",
      "3\n",
      "4\n"
     ]
    }
   ],
   "source": [
    "number = 1\n",
    "while number < 5:\n",
    "    print(number)\n",
    "    number += 1"
   ]
  },
  {
   "cell_type": "markdown",
   "id": "893dd617-ac48-42a7-9b07-6eab8d851699",
   "metadata": {},
   "source": [
    "## Enumerate"
   ]
  },
  {
   "cell_type": "code",
   "execution_count": 128,
   "id": "4831ae44-5196-4a4a-b3cf-26cd1c4bb8e6",
   "metadata": {},
   "outputs": [],
   "source": [
    "students = [\"John\", \"Mark\", \"Venessa\", \"Mariam\"]"
   ]
  },
  {
   "cell_type": "code",
   "execution_count": 129,
   "id": "6652dcff-4c80-49b3-896f-5c5816458c29",
   "metadata": {},
   "outputs": [
    {
     "name": "stdout",
     "output_type": "stream",
     "text": [
      "John\n",
      "Mark\n",
      "Venessa\n",
      "Mariam\n"
     ]
    }
   ],
   "source": [
    "for student in students:\n",
    "    print(student)"
   ]
  },
  {
   "cell_type": "code",
   "execution_count": 130,
   "id": "7cd49cbd-23cb-4735-8829-9668b46dd3fd",
   "metadata": {},
   "outputs": [
    {
     "name": "stdout",
     "output_type": "stream",
     "text": [
      "0 John\n",
      "1 Mark\n",
      "2 Venessa\n",
      "3 Mariam\n"
     ]
    }
   ],
   "source": [
    "for index, student in enumerate(students):\n",
    "    print(index, student)"
   ]
  },
  {
   "cell_type": "code",
   "execution_count": 133,
   "id": "3a63c46a-7728-48c2-8a29-c1c6412d4a37",
   "metadata": {},
   "outputs": [],
   "source": [
    "A = []\n",
    "B = []\n",
    "\n",
    "for index, student in enumerate(students):\n",
    "    if index % 2 == 0:\n",
    "        A.append(student)\n",
    "    else:\n",
    "        B.append(student)\n",
    "    "
   ]
  },
  {
   "cell_type": "code",
   "execution_count": 134,
   "id": "f7a60b3a-8a37-44e2-9cd6-c3bd6227ac24",
   "metadata": {},
   "outputs": [
    {
     "data": {
      "text/plain": [
       "['John', 'Venessa']"
      ]
     },
     "execution_count": 134,
     "metadata": {},
     "output_type": "execute_result"
    }
   ],
   "source": [
    "A"
   ]
  },
  {
   "cell_type": "code",
   "execution_count": 135,
   "id": "68571eb4-7500-4b8b-a91c-6b326cc189ca",
   "metadata": {},
   "outputs": [
    {
     "data": {
      "text/plain": [
       "['Mark', 'Mariam']"
      ]
     },
     "execution_count": 135,
     "metadata": {},
     "output_type": "execute_result"
    }
   ],
   "source": [
    "B"
   ]
  },
  {
   "cell_type": "code",
   "execution_count": 138,
   "id": "2e43d06c-94bd-43ae-8c26-fa73fbab30f2",
   "metadata": {},
   "outputs": [],
   "source": [
    "def divide_students(students):\n",
    "    groups = [[], []]\n",
    "    for index, student in enumerate(students):\n",
    "        if index % 2 == 0:\n",
    "            groups[0].append(student)\n",
    "        else:\n",
    "            groups[1].append(student)\n",
    "    print(groups)\n",
    "    return groups\n",
    "    "
   ]
  },
  {
   "cell_type": "code",
   "execution_count": 139,
   "id": "69c518d9-72d8-42e1-bd1b-f5e8a88043d0",
   "metadata": {},
   "outputs": [
    {
     "name": "stdout",
     "output_type": "stream",
     "text": [
      "[['John', 'Venessa'], ['Mark', 'Mariam']]\n"
     ]
    },
    {
     "data": {
      "text/plain": [
       "[['John', 'Venessa'], ['Mark', 'Mariam']]"
      ]
     },
     "execution_count": 139,
     "metadata": {},
     "output_type": "execute_result"
    }
   ],
   "source": [
    "divide_students(students)"
   ]
  },
  {
   "cell_type": "code",
   "execution_count": 140,
   "id": "c5424031-784e-46a1-ae43-5a6196b21010",
   "metadata": {},
   "outputs": [
    {
     "name": "stdout",
     "output_type": "stream",
     "text": [
      "[['John', 'Venessa'], ['Mark', 'Mariam']]\n"
     ]
    }
   ],
   "source": [
    "s = divide_students(students)"
   ]
  },
  {
   "cell_type": "code",
   "execution_count": 141,
   "id": "82b0abcc-bf29-4430-a79d-c50060f69b53",
   "metadata": {},
   "outputs": [
    {
     "data": {
      "text/plain": [
       "['John', 'Venessa']"
      ]
     },
     "execution_count": 141,
     "metadata": {},
     "output_type": "execute_result"
    }
   ],
   "source": [
    "s[0]"
   ]
  },
  {
   "cell_type": "code",
   "execution_count": 142,
   "id": "b55dfaaa-34ef-4b07-a6b2-7a5f22eeedb1",
   "metadata": {},
   "outputs": [
    {
     "data": {
      "text/plain": [
       "['Mark', 'Mariam']"
      ]
     },
     "execution_count": 142,
     "metadata": {},
     "output_type": "execute_result"
    }
   ],
   "source": [
    "s[1]"
   ]
  },
  {
   "cell_type": "code",
   "execution_count": 143,
   "id": "8376f6df-942c-48b6-99cd-28bd5d375d10",
   "metadata": {},
   "outputs": [],
   "source": [
    "def alternating_with_enumerate(string):\n",
    "    new_string = \"\"\n",
    "    for i, letter in enumerate(string):\n",
    "        if i %2 == 0:\n",
    "            new_string += letter.upper()\n",
    "        else:\n",
    "            new_string += letter.lower()\n",
    "    print(new_string)"
   ]
  },
  {
   "cell_type": "code",
   "execution_count": 144,
   "id": "d15a4860-a9ae-49ed-bda7-851b5f05264f",
   "metadata": {},
   "outputs": [
    {
     "name": "stdout",
     "output_type": "stream",
     "text": [
      "Hi mY NaMe iS JoHn aNd i aM LeArNiNg pYtHoN\n"
     ]
    }
   ],
   "source": [
    "alternating_with_enumerate(\"hi my name is john and i am learning python\")"
   ]
  },
  {
   "cell_type": "markdown",
   "id": "d47a6443-4acf-4360-9dbc-5e811a680410",
   "metadata": {},
   "source": [
    "## Zip"
   ]
  },
  {
   "cell_type": "code",
   "execution_count": 145,
   "id": "aaf32651-2634-4d36-ac5a-681b0e47987d",
   "metadata": {},
   "outputs": [],
   "source": [
    "students = [\"John\", \"Mark\", \"Venessa\", \"Mariam\"]\n",
    "\n",
    "departments = [\"mathematics\", \"statistics\", \"physics\", \"astronomy\"]\n",
    "\n",
    "ages = [23,30,26,22]"
   ]
  },
  {
   "cell_type": "code",
   "execution_count": 146,
   "id": "545ef96d-da69-4a9b-a40f-565b626e4700",
   "metadata": {},
   "outputs": [
    {
     "data": {
      "text/plain": [
       "[('John', 'mathematics', 23),\n",
       " ('Mark', 'statistics', 30),\n",
       " ('Venessa', 'physics', 26),\n",
       " ('Mariam', 'astronomy', 22)]"
      ]
     },
     "execution_count": 146,
     "metadata": {},
     "output_type": "execute_result"
    }
   ],
   "source": [
    "list(zip(students, departments, ages))"
   ]
  },
  {
   "cell_type": "markdown",
   "id": "7ef597ff-b1ab-4e97-b64f-dffd48016787",
   "metadata": {},
   "source": [
    "## Lambda & Map & Filter & Reduce"
   ]
  },
  {
   "cell_type": "code",
   "execution_count": 147,
   "id": "68c51976-f192-4e07-a8a7-57eedb018f46",
   "metadata": {},
   "outputs": [
    {
     "data": {
      "text/plain": [
       "36"
      ]
     },
     "execution_count": 147,
     "metadata": {},
     "output_type": "execute_result"
    }
   ],
   "source": [
    "def summer(a, b):\n",
    "    return a + b\n",
    "summer(1,3) * 9"
   ]
  },
  {
   "cell_type": "code",
   "execution_count": 148,
   "id": "286be1a9-394a-425f-9895-b57aa22df140",
   "metadata": {},
   "outputs": [],
   "source": [
    "new_sum = lambda a,b: a + b"
   ]
  },
  {
   "cell_type": "code",
   "execution_count": 149,
   "id": "8eaf3c9c-fef0-43c5-a518-ace7c0055c45",
   "metadata": {},
   "outputs": [
    {
     "data": {
      "text/plain": [
       "9"
      ]
     },
     "execution_count": 149,
     "metadata": {},
     "output_type": "execute_result"
    }
   ],
   "source": [
    "new_sum(4,5)"
   ]
  },
  {
   "cell_type": "code",
   "execution_count": 150,
   "id": "d1a91300-94d6-4544-ba75-eb22934cd830",
   "metadata": {},
   "outputs": [],
   "source": [
    "#Map"
   ]
  },
  {
   "cell_type": "code",
   "execution_count": 151,
   "id": "ace2beeb-badd-4864-b1a0-f5d204403a38",
   "metadata": {},
   "outputs": [],
   "source": [
    "maaslar = [1000,2000,3000,4000,5000]"
   ]
  },
  {
   "cell_type": "code",
   "execution_count": 153,
   "id": "4d349a36-5ddd-4859-9c25-253115e85e80",
   "metadata": {},
   "outputs": [
    {
     "data": {
      "text/plain": [
       "6000.0"
      ]
     },
     "execution_count": 153,
     "metadata": {},
     "output_type": "execute_result"
    }
   ],
   "source": [
    "def new_salary(x):\n",
    "    return x*20/100 +x\n",
    "new_salary(5000)"
   ]
  },
  {
   "cell_type": "code",
   "execution_count": 154,
   "id": "e67c2d43-59c3-46c8-ba73-f40d36423f6f",
   "metadata": {},
   "outputs": [
    {
     "name": "stdout",
     "output_type": "stream",
     "text": [
      "1200.0\n",
      "2400.0\n",
      "3600.0\n",
      "4800.0\n",
      "6000.0\n"
     ]
    }
   ],
   "source": [
    "for maas in maaslar:\n",
    "    print(new_salary(maas))"
   ]
  },
  {
   "cell_type": "code",
   "execution_count": 157,
   "id": "7b6db0d0-e58e-481e-b25b-176f0ce98bd2",
   "metadata": {},
   "outputs": [
    {
     "data": {
      "text/plain": [
       "[1200.0, 2400.0, 3600.0, 4800.0, 6000.0]"
      ]
     },
     "execution_count": 157,
     "metadata": {},
     "output_type": "execute_result"
    }
   ],
   "source": [
    "list(map(new_salary, maaslar))\n",
    "# burada döngü kullanmadan fonksiyonu ve nesneyi verdik bir liste oluşturduk."
   ]
  },
  {
   "cell_type": "code",
   "execution_count": 159,
   "id": "d2368843-da13-45d7-86f7-54045afef26e",
   "metadata": {},
   "outputs": [
    {
     "data": {
      "text/plain": [
       "[1200.0, 2400.0, 3600.0, 4800.0, 6000.0]"
      ]
     },
     "execution_count": 159,
     "metadata": {},
     "output_type": "execute_result"
    }
   ],
   "source": [
    "list(map(lambda x: x * 20/100 + x, maaslar))\n",
    "#map ve lambdayı bir arada kullandık."
   ]
  },
  {
   "cell_type": "code",
   "execution_count": 160,
   "id": "0dc27f90-29bd-4873-a2df-2ec223ade1a9",
   "metadata": {},
   "outputs": [
    {
     "data": {
      "text/plain": [
       "[1000000, 4000000, 9000000, 16000000, 25000000]"
      ]
     },
     "execution_count": 160,
     "metadata": {},
     "output_type": "execute_result"
    }
   ],
   "source": [
    "list(map(lambda x: x ** 2, maaslar))"
   ]
  },
  {
   "cell_type": "code",
   "execution_count": 161,
   "id": "68323409-e717-46b6-afae-7bbd05c4ffa2",
   "metadata": {},
   "outputs": [],
   "source": [
    "#Filter"
   ]
  },
  {
   "cell_type": "code",
   "execution_count": 162,
   "id": "4dab22fa-e8af-4a19-861f-0752f3859eff",
   "metadata": {},
   "outputs": [
    {
     "data": {
      "text/plain": [
       "[2, 4, 6, 8, 10]"
      ]
     },
     "execution_count": 162,
     "metadata": {},
     "output_type": "execute_result"
    }
   ],
   "source": [
    "list_store = [1,2,3,4,5,6,7,8,9,10]\n",
    "list(filter(lambda x: x % 2 == 0, list_store))"
   ]
  },
  {
   "cell_type": "code",
   "execution_count": 163,
   "id": "4e8c44b5-4591-448e-8538-85c12b696d12",
   "metadata": {},
   "outputs": [],
   "source": [
    "#Reduce"
   ]
  },
  {
   "cell_type": "code",
   "execution_count": 164,
   "id": "1b0d5640-57a2-4fd0-873d-0dfd77ad1db4",
   "metadata": {},
   "outputs": [],
   "source": [
    "from functools import reduce"
   ]
  },
  {
   "cell_type": "code",
   "execution_count": 166,
   "id": "f1b00a0f-65eb-48cb-a0d1-d7bab97f25d6",
   "metadata": {},
   "outputs": [
    {
     "data": {
      "text/plain": [
       "10"
      ]
     },
     "execution_count": 166,
     "metadata": {},
     "output_type": "execute_result"
    }
   ],
   "source": [
    "list_store = [1,2,3,4]\n",
    "reduce(lambda a, b: a + b, list_store)"
   ]
  },
  {
   "cell_type": "markdown",
   "id": "5ba7a2ec-8d00-4501-b868-029425dd76bf",
   "metadata": {},
   "source": [
    "## COMPREHENSIONS"
   ]
  },
  {
   "cell_type": "code",
   "execution_count": 167,
   "id": "a374f6bb-a085-43fa-9f9f-38743f990d5d",
   "metadata": {},
   "outputs": [],
   "source": [
    "# List Comprehension"
   ]
  },
  {
   "cell_type": "code",
   "execution_count": 168,
   "id": "71ff334d-3140-4351-b02c-11d85807b1e7",
   "metadata": {},
   "outputs": [],
   "source": [
    "maaslar = [1000,2000,3000,4000,5000]"
   ]
  },
  {
   "cell_type": "code",
   "execution_count": 169,
   "id": "da1ce77f-7b20-4de6-9bed-15cab0c69156",
   "metadata": {},
   "outputs": [
    {
     "name": "stdout",
     "output_type": "stream",
     "text": [
      "1200.0\n",
      "2400.0\n",
      "3600.0\n",
      "4800.0\n",
      "6000.0\n"
     ]
    }
   ],
   "source": [
    "for maas in maaslar:\n",
    "    print(new_salary(maas))"
   ]
  },
  {
   "cell_type": "code",
   "execution_count": 170,
   "id": "12346b22-b865-4ebb-8188-da23a2701941",
   "metadata": {},
   "outputs": [],
   "source": [
    "null_list = []"
   ]
  },
  {
   "cell_type": "code",
   "execution_count": 171,
   "id": "21a54b82-b357-4f6d-8474-2c1697121dd2",
   "metadata": {},
   "outputs": [],
   "source": [
    "for maas in maaslar:\n",
    "    null_list.append(new_salary(maas))"
   ]
  },
  {
   "cell_type": "code",
   "execution_count": 172,
   "id": "ff2d213a-43b7-41b8-b59c-09a88a79962e",
   "metadata": {},
   "outputs": [
    {
     "data": {
      "text/plain": [
       "[1200.0, 2400.0, 3600.0, 4800.0, 6000.0]"
      ]
     },
     "execution_count": 172,
     "metadata": {},
     "output_type": "execute_result"
    }
   ],
   "source": [
    "null_list"
   ]
  },
  {
   "cell_type": "code",
   "execution_count": 173,
   "id": "134ee973-2350-47f0-9f0d-e9d5e142c3ba",
   "metadata": {},
   "outputs": [],
   "source": [
    "null_list = []"
   ]
  },
  {
   "cell_type": "code",
   "execution_count": 175,
   "id": "9bea6ae6-9ea2-4024-b368-2707783dbc84",
   "metadata": {},
   "outputs": [],
   "source": [
    "for maas in maaslar:\n",
    "    if maas > 3000:\n",
    "        null_list.append(new_salary(maas))\n",
    "    else:\n",
    "        null_list.append(new_salary(maas * 2))"
   ]
  },
  {
   "cell_type": "code",
   "execution_count": 176,
   "id": "8b2050f4-2478-4bc6-a3cb-5f23575e75d7",
   "metadata": {},
   "outputs": [
    {
     "data": {
      "text/plain": [
       "[2400.0, 4800.0, 7200.0, 4800.0, 6000.0]"
      ]
     },
     "execution_count": 176,
     "metadata": {},
     "output_type": "execute_result"
    }
   ],
   "source": [
    "null_list"
   ]
  },
  {
   "cell_type": "code",
   "execution_count": 178,
   "id": "f2a82a6b-e7fd-4f7b-b59f-ec52570a5b9b",
   "metadata": {},
   "outputs": [
    {
     "data": {
      "text/plain": [
       "[2400.0, 4800.0, 3600.0, 4800.0, 6000.0]"
      ]
     },
     "execution_count": 178,
     "metadata": {},
     "output_type": "execute_result"
    }
   ],
   "source": [
    "[new_salary(maas * 2) if maas < 3000 else new_salary(maas) for maas in maaslar]\n",
    "# list comprehension"
   ]
  },
  {
   "cell_type": "code",
   "execution_count": 181,
   "id": "69718fe9-0cb4-4c8a-a98c-bde6fc184fcf",
   "metadata": {},
   "outputs": [
    {
     "data": {
      "text/plain": [
       "[2000, 4000, 6000, 8000, 10000]"
      ]
     },
     "execution_count": 181,
     "metadata": {},
     "output_type": "execute_result"
    }
   ],
   "source": [
    "[maas * 2 for maas in maaslar]"
   ]
  },
  {
   "cell_type": "code",
   "execution_count": 182,
   "id": "8f5b1889-9004-4cb8-b55f-72d0d4d05c19",
   "metadata": {},
   "outputs": [
    {
     "data": {
      "text/plain": [
       "[2000, 4000]"
      ]
     },
     "execution_count": 182,
     "metadata": {},
     "output_type": "execute_result"
    }
   ],
   "source": [
    "[maas * 2 for maas in maaslar if maas < 3000]"
   ]
  },
  {
   "cell_type": "code",
   "execution_count": 184,
   "id": "b0551d1c-904b-4ab5-99d1-feab37972659",
   "metadata": {},
   "outputs": [
    {
     "data": {
      "text/plain": [
       "[2000, 4000, 0, 0, 0]"
      ]
     },
     "execution_count": 184,
     "metadata": {},
     "output_type": "execute_result"
    }
   ],
   "source": [
    "[maas * 2 if maas < 3000 else maas * 0 for maas in maaslar ]\n",
    "# Eğer comprehension yapısı içerisinde tek bir if kullanıyorsanız yani else ile birlikte kullanmıyorsanız bu durumda if sağ tarafa yazılır, Eğer if ve else yapısı birlikte\n",
    "# kullanılacaksa for döngüsü sağ tarafta kalır."
   ]
  },
  {
   "cell_type": "code",
   "execution_count": 186,
   "id": "7f88d8e4-4896-492d-b84d-33af1cfa3d36",
   "metadata": {},
   "outputs": [
    {
     "data": {
      "text/plain": [
       "[2400.0, 4800.0, 720.0, 960.0, 1200.0]"
      ]
     },
     "execution_count": 186,
     "metadata": {},
     "output_type": "execute_result"
    }
   ],
   "source": [
    "[new_salary(maas * 2) if maas < 3000 else new_salary(maas * 0.2) for maas in maaslar ]"
   ]
  },
  {
   "cell_type": "code",
   "execution_count": null,
   "id": "4c82a6d7-e3a0-464a-8110-bee320a98c59",
   "metadata": {},
   "outputs": [],
   "source": []
  },
  {
   "cell_type": "code",
   "execution_count": null,
   "id": "05bccb73-cc2d-471d-9a91-126a8c6b8964",
   "metadata": {},
   "outputs": [],
   "source": []
  },
  {
   "cell_type": "code",
   "execution_count": null,
   "id": "cc7944a8-f949-4768-aa63-8041618a581a",
   "metadata": {},
   "outputs": [],
   "source": []
  },
  {
   "cell_type": "code",
   "execution_count": null,
   "id": "fab0b421-589e-4c5b-bd35-65fd5844b2fd",
   "metadata": {},
   "outputs": [],
   "source": []
  }
 ],
 "metadata": {
  "kernelspec": {
   "display_name": "Python 3 (ipykernel)",
   "language": "python",
   "name": "python3"
  },
  "language_info": {
   "codemirror_mode": {
    "name": "ipython",
    "version": 3
   },
   "file_extension": ".py",
   "mimetype": "text/x-python",
   "name": "python",
   "nbconvert_exporter": "python",
   "pygments_lexer": "ipython3",
   "version": "3.9.12"
  }
 },
 "nbformat": 4,
 "nbformat_minor": 5
}
