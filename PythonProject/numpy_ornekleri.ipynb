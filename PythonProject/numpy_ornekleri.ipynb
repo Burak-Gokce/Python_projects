{
 "cells": [
  {
   "cell_type": "code",
   "execution_count": 1,
   "id": "48157565-b2fd-4f01-85dc-ba264f1e82e3",
   "metadata": {},
   "outputs": [],
   "source": [
    "import numpy as np"
   ]
  },
  {
   "cell_type": "code",
   "execution_count": 2,
   "id": "57e84626-52f8-46ec-af51-4c571d004e56",
   "metadata": {},
   "outputs": [
    {
     "data": {
      "text/plain": [
       "array([1, 2, 3, 4])"
      ]
     },
     "execution_count": 2,
     "metadata": {},
     "output_type": "execute_result"
    }
   ],
   "source": [
    "np.array([1,2,3,4])"
   ]
  },
  {
   "cell_type": "code",
   "execution_count": 3,
   "id": "472f2736-f94a-40aa-9edf-047390aeb7d0",
   "metadata": {},
   "outputs": [
    {
     "data": {
      "text/plain": [
       "numpy.ndarray"
      ]
     },
     "execution_count": 3,
     "metadata": {},
     "output_type": "execute_result"
    }
   ],
   "source": [
    "type(np.array([1,2,3,4]))"
   ]
  },
  {
   "cell_type": "code",
   "execution_count": 4,
   "id": "1c7d464c-2c8b-47ed-bb70-a8fce3b68746",
   "metadata": {},
   "outputs": [
    {
     "data": {
      "text/plain": [
       "array([0., 0., 0., 0., 0., 0., 0., 0., 0., 0.])"
      ]
     },
     "execution_count": 4,
     "metadata": {},
     "output_type": "execute_result"
    }
   ],
   "source": [
    "np.zeros(10)"
   ]
  },
  {
   "cell_type": "code",
   "execution_count": 5,
   "id": "e1d46c52-2e43-46cb-8562-405e21a7f5d0",
   "metadata": {},
   "outputs": [
    {
     "data": {
      "text/plain": [
       "array([0, 0, 0, 0, 0, 0, 0, 0, 0, 0])"
      ]
     },
     "execution_count": 5,
     "metadata": {},
     "output_type": "execute_result"
    }
   ],
   "source": [
    "np.zeros(10, dtype=int)"
   ]
  },
  {
   "cell_type": "code",
   "execution_count": 6,
   "id": "11eb4100-37df-49e2-b670-6b13e917a710",
   "metadata": {},
   "outputs": [
    {
     "data": {
      "text/plain": [
       "array([2, 9, 2, 2, 6, 7, 2, 9, 8, 6])"
      ]
     },
     "execution_count": 6,
     "metadata": {},
     "output_type": "execute_result"
    }
   ],
   "source": [
    "np.random.randint(0,10, size=10)"
   ]
  },
  {
   "cell_type": "code",
   "execution_count": 8,
   "id": "b6b3a601-319e-4743-b646-55b8d87254bb",
   "metadata": {},
   "outputs": [
    {
     "data": {
      "text/plain": [
       "array([[ 8.25042386,  8.47163382, 11.93023412,  8.45217921],\n",
       "       [16.77580303, 14.10208251,  6.87425472,  9.5755996 ],\n",
       "       [21.10317443,  6.35126455,  0.67933455, 12.3975171 ]])"
      ]
     },
     "execution_count": 8,
     "metadata": {},
     "output_type": "execute_result"
    }
   ],
   "source": [
    "np.random.normal(10,4, (3,4))\n",
    "#Ortalaması 10, standart sapması 4 ve 3'e 4'lük bir normal dağılan matris oluşturduk."
   ]
  },
  {
   "cell_type": "markdown",
   "id": "d5950201-98d9-4ec8-b282-4bdaea306964",
   "metadata": {},
   "source": [
    "## Numpy Array Özellikleri"
   ]
  },
  {
   "cell_type": "markdown",
   "id": "53c1a41d-040e-4bef-a3a3-48907ba3da93",
   "metadata": {},
   "source": [
    "### ndim: boyut sayısı\n",
    "### shape: boyut bilgisi\n",
    "### size: toplam eleman sayısı\n",
    "### dtype: array veri tipi"
   ]
  },
  {
   "cell_type": "code",
   "execution_count": 9,
   "id": "0825c00e-21d5-4823-8be6-6744e3fb4552",
   "metadata": {},
   "outputs": [],
   "source": [
    "a = np.random.randint(0,10, size=5)"
   ]
  },
  {
   "cell_type": "code",
   "execution_count": 10,
   "id": "58a50c20-0430-43f6-bb13-629ae788bb21",
   "metadata": {},
   "outputs": [
    {
     "data": {
      "text/plain": [
       "array([7, 9, 0, 5, 3])"
      ]
     },
     "execution_count": 10,
     "metadata": {},
     "output_type": "execute_result"
    }
   ],
   "source": [
    "a"
   ]
  },
  {
   "cell_type": "code",
   "execution_count": 11,
   "id": "e403ad1d-7b62-4ae0-961b-830ded44afd6",
   "metadata": {},
   "outputs": [
    {
     "data": {
      "text/plain": [
       "1"
      ]
     },
     "execution_count": 11,
     "metadata": {},
     "output_type": "execute_result"
    }
   ],
   "source": [
    "a.ndim"
   ]
  },
  {
   "cell_type": "code",
   "execution_count": 12,
   "id": "4bba54a0-9645-4462-86bd-e1d69184adec",
   "metadata": {},
   "outputs": [
    {
     "data": {
      "text/plain": [
       "(5,)"
      ]
     },
     "execution_count": 12,
     "metadata": {},
     "output_type": "execute_result"
    }
   ],
   "source": [
    "a.shape"
   ]
  },
  {
   "cell_type": "code",
   "execution_count": 13,
   "id": "2eefc1f3-1d9c-46a3-a6d6-8ae9bcfe979f",
   "metadata": {},
   "outputs": [
    {
     "data": {
      "text/plain": [
       "5"
      ]
     },
     "execution_count": 13,
     "metadata": {},
     "output_type": "execute_result"
    }
   ],
   "source": [
    "a.size"
   ]
  },
  {
   "cell_type": "code",
   "execution_count": 14,
   "id": "1f2d0a51-381d-4ed3-889f-fee386053a57",
   "metadata": {},
   "outputs": [
    {
     "data": {
      "text/plain": [
       "dtype('int32')"
      ]
     },
     "execution_count": 14,
     "metadata": {},
     "output_type": "execute_result"
    }
   ],
   "source": [
    "a.dtype"
   ]
  },
  {
   "cell_type": "markdown",
   "id": "aa9ae979-1825-49ec-a2e7-2dc24730ec0d",
   "metadata": {},
   "source": [
    "## Yeniden Şekillendirme(Reshaping)"
   ]
  },
  {
   "cell_type": "code",
   "execution_count": 16,
   "id": "40845530-4f73-48c9-b243-3f866e59d2d7",
   "metadata": {},
   "outputs": [],
   "source": [
    "ar = np.random.randint(1,10, size=9).reshape(3,3)"
   ]
  },
  {
   "cell_type": "code",
   "execution_count": 17,
   "id": "9b745208-1538-48f0-a3c7-ddd9b57931e4",
   "metadata": {},
   "outputs": [
    {
     "data": {
      "text/plain": [
       "array([[9, 3, 4],\n",
       "       [1, 3, 5],\n",
       "       [8, 1, 9]])"
      ]
     },
     "execution_count": 17,
     "metadata": {},
     "output_type": "execute_result"
    }
   ],
   "source": [
    "ar"
   ]
  },
  {
   "cell_type": "markdown",
   "id": "014be5ae-16c5-4177-a8b9-b80cdf4e22a0",
   "metadata": {},
   "source": [
    "## Index Seçimi"
   ]
  },
  {
   "cell_type": "code",
   "execution_count": 18,
   "id": "b8440573-ff47-4c91-b27a-8c8e67caeb06",
   "metadata": {},
   "outputs": [],
   "source": [
    "a = np.random.randint(10, size=10)"
   ]
  },
  {
   "cell_type": "code",
   "execution_count": 19,
   "id": "3135d8a4-b04e-446f-97f3-2f9990fe51a1",
   "metadata": {},
   "outputs": [
    {
     "data": {
      "text/plain": [
       "2"
      ]
     },
     "execution_count": 19,
     "metadata": {},
     "output_type": "execute_result"
    }
   ],
   "source": [
    "a[0]"
   ]
  },
  {
   "cell_type": "code",
   "execution_count": 20,
   "id": "9b77eb46-58a9-42c1-9ef5-eea51e9beeb4",
   "metadata": {},
   "outputs": [
    {
     "data": {
      "text/plain": [
       "array([2, 5, 5, 6, 2])"
      ]
     },
     "execution_count": 20,
     "metadata": {},
     "output_type": "execute_result"
    }
   ],
   "source": [
    "a[0:5]"
   ]
  },
  {
   "cell_type": "code",
   "execution_count": 21,
   "id": "26c5edab-5fb8-44b3-9b29-6b6beecb6edb",
   "metadata": {},
   "outputs": [],
   "source": [
    "a[0] = 999"
   ]
  },
  {
   "cell_type": "code",
   "execution_count": 22,
   "id": "2a6d0b96-070f-450b-ae41-f46e604482be",
   "metadata": {},
   "outputs": [
    {
     "data": {
      "text/plain": [
       "array([999,   5,   5,   6,   2,   1,   7,   0,   9,   5])"
      ]
     },
     "execution_count": 22,
     "metadata": {},
     "output_type": "execute_result"
    }
   ],
   "source": [
    "a"
   ]
  },
  {
   "cell_type": "code",
   "execution_count": 23,
   "id": "94e54732-49c4-46d0-9ed2-63d5d6dd1cf5",
   "metadata": {},
   "outputs": [],
   "source": [
    "m = np.random.randint(10, size=(3,5))"
   ]
  },
  {
   "cell_type": "code",
   "execution_count": 24,
   "id": "e14044bd-70c3-48e2-8528-a8bb09d0a22c",
   "metadata": {},
   "outputs": [
    {
     "data": {
      "text/plain": [
       "7"
      ]
     },
     "execution_count": 24,
     "metadata": {},
     "output_type": "execute_result"
    }
   ],
   "source": [
    "m[0,0]"
   ]
  },
  {
   "cell_type": "code",
   "execution_count": 25,
   "id": "486258a8-2772-4b95-8e70-0b4ae06f119c",
   "metadata": {},
   "outputs": [
    {
     "data": {
      "text/plain": [
       "9"
      ]
     },
     "execution_count": 25,
     "metadata": {},
     "output_type": "execute_result"
    }
   ],
   "source": [
    "m[1,1]"
   ]
  },
  {
   "cell_type": "code",
   "execution_count": 26,
   "id": "53efbd19-fc6f-4181-a944-d18f6b08ff1d",
   "metadata": {},
   "outputs": [
    {
     "data": {
      "text/plain": [
       "array([[7, 2, 5, 6, 0],\n",
       "       [0, 9, 9, 3, 1],\n",
       "       [7, 5, 2, 7, 7]])"
      ]
     },
     "execution_count": 26,
     "metadata": {},
     "output_type": "execute_result"
    }
   ],
   "source": [
    "m"
   ]
  },
  {
   "cell_type": "code",
   "execution_count": 27,
   "id": "881eee3f-53ff-4af7-9b0f-4a555f1c4b36",
   "metadata": {},
   "outputs": [
    {
     "data": {
      "text/plain": [
       "7"
      ]
     },
     "execution_count": 27,
     "metadata": {},
     "output_type": "execute_result"
    }
   ],
   "source": [
    "m[2,3]"
   ]
  },
  {
   "cell_type": "code",
   "execution_count": 28,
   "id": "3784dc73-1116-4f21-8b6d-a9d1b3740544",
   "metadata": {},
   "outputs": [],
   "source": [
    "m[2,3] = 999"
   ]
  },
  {
   "cell_type": "code",
   "execution_count": 29,
   "id": "99d446ea-b6a5-4d29-95a9-60d330983530",
   "metadata": {},
   "outputs": [
    {
     "data": {
      "text/plain": [
       "array([[  7,   2,   5,   6,   0],\n",
       "       [  0,   9,   9,   3,   1],\n",
       "       [  7,   5,   2, 999,   7]])"
      ]
     },
     "execution_count": 29,
     "metadata": {},
     "output_type": "execute_result"
    }
   ],
   "source": [
    "m"
   ]
  },
  {
   "cell_type": "code",
   "execution_count": 30,
   "id": "396ed47c-0744-4bac-8b47-a1a660b40c8e",
   "metadata": {},
   "outputs": [
    {
     "data": {
      "text/plain": [
       "array([7, 0, 7])"
      ]
     },
     "execution_count": 30,
     "metadata": {},
     "output_type": "execute_result"
    }
   ],
   "source": [
    "m[:, 0]"
   ]
  },
  {
   "cell_type": "code",
   "execution_count": 31,
   "id": "687354f5-ae9a-4e91-9606-f5ef7969b760",
   "metadata": {},
   "outputs": [
    {
     "data": {
      "text/plain": [
       "array([0, 9, 9, 3, 1])"
      ]
     },
     "execution_count": 31,
     "metadata": {},
     "output_type": "execute_result"
    }
   ],
   "source": [
    "m[1,:]"
   ]
  },
  {
   "cell_type": "code",
   "execution_count": 32,
   "id": "fedb8cc5-7fb6-4d89-909a-169f4f4a045d",
   "metadata": {},
   "outputs": [
    {
     "data": {
      "text/plain": [
       "array([[7, 2, 5],\n",
       "       [0, 9, 9]])"
      ]
     },
     "execution_count": 32,
     "metadata": {},
     "output_type": "execute_result"
    }
   ],
   "source": [
    "m[0:2, 0:3]"
   ]
  },
  {
   "cell_type": "markdown",
   "id": "50f0185b-a34c-42e5-82eb-b134219dfe43",
   "metadata": {},
   "source": [
    "## Fancy Index"
   ]
  },
  {
   "cell_type": "code",
   "execution_count": 43,
   "id": "e7115497-a31f-418a-8667-f348950fa4ff",
   "metadata": {},
   "outputs": [],
   "source": [
    "v = np.arange(0, 30, 3)\n",
    "# 0' dan 30'a kadar 3'er 3'er artacak"
   ]
  },
  {
   "cell_type": "code",
   "execution_count": 44,
   "id": "4111f077-a4af-4098-bfa6-6372a774c6b9",
   "metadata": {},
   "outputs": [
    {
     "data": {
      "text/plain": [
       "array([ 0,  3,  6,  9, 12, 15, 18, 21, 24, 27])"
      ]
     },
     "execution_count": 44,
     "metadata": {},
     "output_type": "execute_result"
    }
   ],
   "source": [
    "v"
   ]
  },
  {
   "cell_type": "code",
   "execution_count": 45,
   "id": "5a082902-5416-4afe-97c6-c92be4d3a721",
   "metadata": {},
   "outputs": [
    {
     "data": {
      "text/plain": [
       "3"
      ]
     },
     "execution_count": 45,
     "metadata": {},
     "output_type": "execute_result"
    }
   ],
   "source": [
    "v[1]"
   ]
  },
  {
   "cell_type": "code",
   "execution_count": 46,
   "id": "01cde3e1-e4f4-477e-99bf-1ec09b23c133",
   "metadata": {},
   "outputs": [
    {
     "data": {
      "text/plain": [
       "12"
      ]
     },
     "execution_count": 46,
     "metadata": {},
     "output_type": "execute_result"
    }
   ],
   "source": [
    "v[4]"
   ]
  },
  {
   "cell_type": "code",
   "execution_count": 47,
   "id": "3dbad16e-ec39-43ac-b7e7-fb46089b6f9e",
   "metadata": {},
   "outputs": [],
   "source": [
    "catch = [1,2,3]"
   ]
  },
  {
   "cell_type": "code",
   "execution_count": 48,
   "id": "17274af1-6b02-44b4-9772-dd8fba6c0b1f",
   "metadata": {},
   "outputs": [
    {
     "data": {
      "text/plain": [
       "array([3, 6, 9])"
      ]
     },
     "execution_count": 48,
     "metadata": {},
     "output_type": "execute_result"
    }
   ],
   "source": [
    "v[catch]"
   ]
  },
  {
   "cell_type": "markdown",
   "id": "f4ebf88f-f156-4ec8-9f34-030395bf35e9",
   "metadata": {},
   "source": [
    "## Numpy'da Koşullu İşlemler"
   ]
  },
  {
   "cell_type": "code",
   "execution_count": 49,
   "id": "7b4f9bf6-6e01-40dc-8b99-64abb70be590",
   "metadata": {},
   "outputs": [],
   "source": [
    "#Klasik Döngü ile\n",
    "ab = []\n",
    "for i in v:\n",
    "    if i <3:\n",
    "        ab.append(i)"
   ]
  },
  {
   "cell_type": "code",
   "execution_count": 50,
   "id": "1315b7ae-84c7-47c5-b9d3-6b33ff7d1d61",
   "metadata": {},
   "outputs": [
    {
     "data": {
      "text/plain": [
       "[0]"
      ]
     },
     "execution_count": 50,
     "metadata": {},
     "output_type": "execute_result"
    }
   ],
   "source": [
    "ab"
   ]
  },
  {
   "cell_type": "code",
   "execution_count": 41,
   "id": "8a94e231-0885-488b-b011-77c05b022be3",
   "metadata": {},
   "outputs": [],
   "source": [
    "# Numpy İle"
   ]
  },
  {
   "cell_type": "code",
   "execution_count": 42,
   "id": "348d6a35-607f-492a-b6fe-3946179775e0",
   "metadata": {},
   "outputs": [
    {
     "data": {
      "text/plain": [
       "array([0])"
      ]
     },
     "execution_count": 42,
     "metadata": {},
     "output_type": "execute_result"
    }
   ],
   "source": [
    "v[v<3]"
   ]
  },
  {
   "cell_type": "code",
   "execution_count": 51,
   "id": "535479b4-61b9-457e-9c5c-01ba560d9fa4",
   "metadata": {},
   "outputs": [
    {
     "data": {
      "text/plain": [
       "array([ 6,  9, 12, 15, 18, 21, 24, 27])"
      ]
     },
     "execution_count": 51,
     "metadata": {},
     "output_type": "execute_result"
    }
   ],
   "source": [
    "v[v>3]"
   ]
  },
  {
   "cell_type": "code",
   "execution_count": 52,
   "id": "ff262d52-641e-4bac-9956-5332ed02ab19",
   "metadata": {},
   "outputs": [
    {
     "data": {
      "text/plain": [
       "array([ 0,  6,  9, 12, 15, 18, 21, 24, 27])"
      ]
     },
     "execution_count": 52,
     "metadata": {},
     "output_type": "execute_result"
    }
   ],
   "source": [
    "v[v!=3]"
   ]
  },
  {
   "cell_type": "code",
   "execution_count": 53,
   "id": "86d207b4-8b7a-42bc-830a-320399e563bb",
   "metadata": {},
   "outputs": [
    {
     "data": {
      "text/plain": [
       "array([3])"
      ]
     },
     "execution_count": 53,
     "metadata": {},
     "output_type": "execute_result"
    }
   ],
   "source": [
    "v[v==3]"
   ]
  },
  {
   "cell_type": "markdown",
   "id": "ebc911e5-760d-47b2-83fb-d30dfa41f5c9",
   "metadata": {},
   "source": [
    "## Matematiksel İşlemler"
   ]
  },
  {
   "cell_type": "code",
   "execution_count": 54,
   "id": "c5fa1461-fb38-4dff-9e80-de875a7f922c",
   "metadata": {},
   "outputs": [],
   "source": [
    "v = np.array([1,2,3,4,5])"
   ]
  },
  {
   "cell_type": "code",
   "execution_count": 55,
   "id": "b9cc8d27-f417-45c8-8aef-3ef09f51c423",
   "metadata": {},
   "outputs": [
    {
     "data": {
      "text/plain": [
       "array([0.2, 0.4, 0.6, 0.8, 1. ])"
      ]
     },
     "execution_count": 55,
     "metadata": {},
     "output_type": "execute_result"
    }
   ],
   "source": [
    "v/5"
   ]
  },
  {
   "cell_type": "code",
   "execution_count": 56,
   "id": "156d3759-2b3c-4654-a70a-32aee239c3b8",
   "metadata": {},
   "outputs": [
    {
     "data": {
      "text/plain": [
       "array([0.5, 1. , 1.5, 2. , 2.5])"
      ]
     },
     "execution_count": 56,
     "metadata": {},
     "output_type": "execute_result"
    }
   ],
   "source": [
    "v*5/10"
   ]
  },
  {
   "cell_type": "code",
   "execution_count": 57,
   "id": "bbb60eee-ba25-486e-9f77-1ae9e0216a18",
   "metadata": {},
   "outputs": [
    {
     "data": {
      "text/plain": [
       "array([ 1,  4,  9, 16, 25], dtype=int32)"
      ]
     },
     "execution_count": 57,
     "metadata": {},
     "output_type": "execute_result"
    }
   ],
   "source": [
    "v**2"
   ]
  },
  {
   "cell_type": "code",
   "execution_count": 58,
   "id": "60c1a2d2-e419-4626-8cfa-a78206064ecd",
   "metadata": {},
   "outputs": [
    {
     "data": {
      "text/plain": [
       "array([0, 1, 2, 3, 4])"
      ]
     },
     "execution_count": 58,
     "metadata": {},
     "output_type": "execute_result"
    }
   ],
   "source": [
    "np.subtract(v, 1)\n",
    "#çıkarma işlemi"
   ]
  },
  {
   "cell_type": "code",
   "execution_count": 59,
   "id": "f4976d1a-32ef-4c86-b315-239b0fa7aca2",
   "metadata": {},
   "outputs": [
    {
     "data": {
      "text/plain": [
       "array([2, 3, 4, 5, 6])"
      ]
     },
     "execution_count": 59,
     "metadata": {},
     "output_type": "execute_result"
    }
   ],
   "source": [
    "np.add(v, 1)\n",
    "#toplama işlemi"
   ]
  },
  {
   "cell_type": "code",
   "execution_count": 60,
   "id": "035f3d23-4a5b-4c81-8163-6c68d2022af0",
   "metadata": {},
   "outputs": [
    {
     "data": {
      "text/plain": [
       "3.0"
      ]
     },
     "execution_count": 60,
     "metadata": {},
     "output_type": "execute_result"
    }
   ],
   "source": [
    "np.mean(v)\n",
    "#ortalama alma işlemi"
   ]
  },
  {
   "cell_type": "code",
   "execution_count": 61,
   "id": "806373af-c28d-46ad-b436-91495b8dc097",
   "metadata": {},
   "outputs": [
    {
     "data": {
      "text/plain": [
       "15"
      ]
     },
     "execution_count": 61,
     "metadata": {},
     "output_type": "execute_result"
    }
   ],
   "source": [
    "np.sum(v)\n",
    "#sayıların toplamını alma işlemi"
   ]
  },
  {
   "cell_type": "code",
   "execution_count": 63,
   "id": "fcaf915d-32fe-468b-a556-4f8facb1e256",
   "metadata": {},
   "outputs": [
    {
     "data": {
      "text/plain": [
       "1"
      ]
     },
     "execution_count": 63,
     "metadata": {},
     "output_type": "execute_result"
    }
   ],
   "source": [
    "np.min(v)\n",
    "#minimum değer alma işlemi"
   ]
  },
  {
   "cell_type": "code",
   "execution_count": 64,
   "id": "dfb25527-fb6b-49cb-8849-dc5168df280d",
   "metadata": {},
   "outputs": [
    {
     "data": {
      "text/plain": [
       "5"
      ]
     },
     "execution_count": 64,
     "metadata": {},
     "output_type": "execute_result"
    }
   ],
   "source": [
    "np.max(v)\n",
    "#maximum değer alma işlemi"
   ]
  },
  {
   "cell_type": "code",
   "execution_count": 65,
   "id": "3deb6607-994f-484b-837e-285be0250730",
   "metadata": {},
   "outputs": [
    {
     "data": {
      "text/plain": [
       "2.0"
      ]
     },
     "execution_count": 65,
     "metadata": {},
     "output_type": "execute_result"
    }
   ],
   "source": [
    "np.var(v)\n",
    "#varyans alma işlemi"
   ]
  },
  {
   "cell_type": "code",
   "execution_count": 66,
   "id": "e4e954ab-e607-4397-b169-a248db9c449c",
   "metadata": {},
   "outputs": [],
   "source": [
    "# Numpy ile İki Bilinmeyenli Denklem Çözümü"
   ]
  },
  {
   "cell_type": "code",
   "execution_count": 67,
   "id": "0c75911e-2209-48e7-9a6d-fe49b81d9715",
   "metadata": {},
   "outputs": [],
   "source": [
    "# 5x0 +x1 = 12\n",
    "# x0 + 3x1 = 10"
   ]
  },
  {
   "cell_type": "code",
   "execution_count": 68,
   "id": "f5266edf-7df5-4912-9278-b14c7d3be03d",
   "metadata": {},
   "outputs": [],
   "source": [
    "a = np.array([[5, 1], [1, 3]])\n",
    "b = np.array([12, 10])"
   ]
  },
  {
   "cell_type": "code",
   "execution_count": 69,
   "id": "f14ff6f8-0ba4-4d4b-807f-79577289db06",
   "metadata": {},
   "outputs": [
    {
     "data": {
      "text/plain": [
       "array([1.85714286, 2.71428571])"
      ]
     },
     "execution_count": 69,
     "metadata": {},
     "output_type": "execute_result"
    }
   ],
   "source": [
    "np.linalg.solve(a, b)"
   ]
  },
  {
   "cell_type": "code",
   "execution_count": null,
   "id": "6eb0b963-30fc-47f4-8ea3-3002e3814515",
   "metadata": {},
   "outputs": [],
   "source": []
  }
 ],
 "metadata": {
  "kernelspec": {
   "display_name": "Python 3 (ipykernel)",
   "language": "python",
   "name": "python3"
  },
  "language_info": {
   "codemirror_mode": {
    "name": "ipython",
    "version": 3
   },
   "file_extension": ".py",
   "mimetype": "text/x-python",
   "name": "python",
   "nbconvert_exporter": "python",
   "pygments_lexer": "ipython3",
   "version": "3.9.12"
  }
 },
 "nbformat": 4,
 "nbformat_minor": 5
}
