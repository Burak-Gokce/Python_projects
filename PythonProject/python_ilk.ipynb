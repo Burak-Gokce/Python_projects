{
 "cells": [
  {
   "cell_type": "code",
   "execution_count": 2,
   "id": "93f36627-29f1-4b17-b8bd-c95deca64b41",
   "metadata": {},
   "outputs": [
    {
     "name": "stdout",
     "output_type": "stream",
     "text": [
      "Hello World\n"
     ]
    }
   ],
   "source": [
    "print(\"Hello World\")"
   ]
  },
  {
   "cell_type": "code",
   "execution_count": 3,
   "id": "1dc67759-a7f8-40e7-82b1-0348f560b0ab",
   "metadata": {},
   "outputs": [
    {
     "name": "stdout",
     "output_type": "stream",
     "text": [
      "The World Is Yours\n"
     ]
    }
   ],
   "source": [
    "print(\"The World Is Yours\")"
   ]
  },
  {
   "cell_type": "code",
   "execution_count": 4,
   "id": "c3816bb4-7393-4106-b64c-d7fcab4d3555",
   "metadata": {},
   "outputs": [
    {
     "data": {
      "text/plain": [
       "int"
      ]
     },
     "execution_count": 4,
     "metadata": {},
     "output_type": "execute_result"
    }
   ],
   "source": [
    "type(9)"
   ]
  },
  {
   "cell_type": "code",
   "execution_count": 5,
   "id": "cc983b6f-4a69-4827-9f0d-020088d68d96",
   "metadata": {},
   "outputs": [
    {
     "data": {
      "text/plain": [
       "str"
      ]
     },
     "execution_count": 5,
     "metadata": {},
     "output_type": "execute_result"
    }
   ],
   "source": [
    "type('string')"
   ]
  },
  {
   "cell_type": "code",
   "execution_count": 6,
   "id": "ba1ddf03-15fa-4bac-a603-ca3216278745",
   "metadata": {},
   "outputs": [
    {
     "data": {
      "text/plain": [
       "float"
      ]
     },
     "execution_count": 6,
     "metadata": {},
     "output_type": "execute_result"
    }
   ],
   "source": [
    "type(9.3)"
   ]
  },
  {
   "cell_type": "markdown",
   "id": "3518b211-ce82-45f5-a659-4caf4d167883",
   "metadata": {},
   "source": [
    "### Atamalar  ve Değişkenler (Assignments & Variables)"
   ]
  },
  {
   "cell_type": "code",
   "execution_count": 7,
   "id": "440294da-0cc3-4f46-a593-9a5e0554ae99",
   "metadata": {},
   "outputs": [],
   "source": [
    "a = 9 \n",
    "#bu bir atamadır."
   ]
  },
  {
   "cell_type": "code",
   "execution_count": 8,
   "id": "e16e611a-d45c-43b7-ae47-0614a4892809",
   "metadata": {},
   "outputs": [],
   "source": [
    "b = \"hello ai era\""
   ]
  },
  {
   "cell_type": "code",
   "execution_count": 9,
   "id": "d2e1f614-eeb1-4557-aa6f-55e12fbb9d54",
   "metadata": {},
   "outputs": [
    {
     "data": {
      "text/plain": [
       "'hello ai era'"
      ]
     },
     "execution_count": 9,
     "metadata": {},
     "output_type": "execute_result"
    }
   ],
   "source": [
    "b"
   ]
  },
  {
   "cell_type": "code",
   "execution_count": 10,
   "id": "e92284e1-90f3-4486-84b1-cf5068689a34",
   "metadata": {},
   "outputs": [
    {
     "name": "stdout",
     "output_type": "stream",
     "text": [
      "hello ai era\n"
     ]
    }
   ],
   "source": [
    "print(b)"
   ]
  },
  {
   "cell_type": "code",
   "execution_count": 11,
   "id": "700f3f2b-6530-4a0a-b04b-3bed97e118e8",
   "metadata": {},
   "outputs": [],
   "source": [
    "c = 10"
   ]
  },
  {
   "cell_type": "code",
   "execution_count": 12,
   "id": "dd723596-0d5a-4e28-914b-b60c5db731a4",
   "metadata": {},
   "outputs": [
    {
     "data": {
      "text/plain": [
       "90"
      ]
     },
     "execution_count": 12,
     "metadata": {},
     "output_type": "execute_result"
    }
   ],
   "source": [
    "a * c "
   ]
  },
  {
   "cell_type": "markdown",
   "id": "10a28026-c9af-4a69-b419-8a5d2f347d19",
   "metadata": {},
   "source": []
  },
  {
   "cell_type": "code",
   "execution_count": null,
   "id": "90f8adbf-a6a3-4ac5-b517-1124a78e83c3",
   "metadata": {},
   "outputs": [],
   "source": []
  }
 ],
 "metadata": {
  "kernelspec": {
   "display_name": "Python 3 (ipykernel)",
   "language": "python",
   "name": "python3"
  },
  "language_info": {
   "codemirror_mode": {
    "name": "ipython",
    "version": 3
   },
   "file_extension": ".py",
   "mimetype": "text/x-python",
   "name": "python",
   "nbconvert_exporter": "python",
   "pygments_lexer": "ipython3",
   "version": "3.9.12"
  }
 },
 "nbformat": 4,
 "nbformat_minor": 5
}
